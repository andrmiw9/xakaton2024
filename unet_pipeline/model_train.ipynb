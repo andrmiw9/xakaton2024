{
 "cells": [
  {
   "cell_type": "code",
   "execution_count": 1,
   "metadata": {},
   "outputs": [],
   "source": [
    "import segmentation_models_pytorch as smp\n",
    "import torch\n",
    "from torch import nn"
   ]
  },
  {
   "cell_type": "markdown",
   "metadata": {},
   "source": [
    "# Модель"
   ]
  },
  {
   "cell_type": "code",
   "execution_count": 2,
   "metadata": {},
   "outputs": [
    {
     "name": "stdout",
     "output_type": "stream",
     "text": [
      "Unet(\n",
      "  (encoder): ResNetEncoder(\n",
      "    (conv1): Conv2d(10, 64, kernel_size=(7, 7), stride=(2, 2), padding=(3, 3), bias=False)\n",
      "    (bn1): BatchNorm2d(64, eps=1e-05, momentum=0.1, affine=True, track_running_stats=True)\n",
      "    (relu): ReLU(inplace=True)\n",
      "    (maxpool): MaxPool2d(kernel_size=3, stride=2, padding=1, dilation=1, ceil_mode=False)\n",
      "    (layer1): Sequential(\n",
      "      (0): BasicBlock(\n",
      "        (conv1): Conv2d(64, 64, kernel_size=(3, 3), stride=(1, 1), padding=(1, 1), bias=False)\n",
      "        (bn1): BatchNorm2d(64, eps=1e-05, momentum=0.1, affine=True, track_running_stats=True)\n",
      "        (relu): ReLU(inplace=True)\n",
      "        (conv2): Conv2d(64, 64, kernel_size=(3, 3), stride=(1, 1), padding=(1, 1), bias=False)\n",
      "        (bn2): BatchNorm2d(64, eps=1e-05, momentum=0.1, affine=True, track_running_stats=True)\n",
      "      )\n",
      "      (1): BasicBlock(\n",
      "        (conv1): Conv2d(64, 64, kernel_size=(3, 3), stride=(1, 1), padding=(1, 1), bias=False)\n",
      "        (bn1): BatchNorm2d(64, eps=1e-05, momentum=0.1, affine=True, track_running_stats=True)\n",
      "        (relu): ReLU(inplace=True)\n",
      "        (conv2): Conv2d(64, 64, kernel_size=(3, 3), stride=(1, 1), padding=(1, 1), bias=False)\n",
      "        (bn2): BatchNorm2d(64, eps=1e-05, momentum=0.1, affine=True, track_running_stats=True)\n",
      "      )\n",
      "      (2): BasicBlock(\n",
      "        (conv1): Conv2d(64, 64, kernel_size=(3, 3), stride=(1, 1), padding=(1, 1), bias=False)\n",
      "        (bn1): BatchNorm2d(64, eps=1e-05, momentum=0.1, affine=True, track_running_stats=True)\n",
      "        (relu): ReLU(inplace=True)\n",
      "        (conv2): Conv2d(64, 64, kernel_size=(3, 3), stride=(1, 1), padding=(1, 1), bias=False)\n",
      "        (bn2): BatchNorm2d(64, eps=1e-05, momentum=0.1, affine=True, track_running_stats=True)\n",
      "      )\n",
      "    )\n",
      "    (layer2): Sequential(\n",
      "      (0): BasicBlock(\n",
      "        (conv1): Conv2d(64, 128, kernel_size=(3, 3), stride=(2, 2), padding=(1, 1), bias=False)\n",
      "        (bn1): BatchNorm2d(128, eps=1e-05, momentum=0.1, affine=True, track_running_stats=True)\n",
      "        (relu): ReLU(inplace=True)\n",
      "        (conv2): Conv2d(128, 128, kernel_size=(3, 3), stride=(1, 1), padding=(1, 1), bias=False)\n",
      "        (bn2): BatchNorm2d(128, eps=1e-05, momentum=0.1, affine=True, track_running_stats=True)\n",
      "        (downsample): Sequential(\n",
      "          (0): Conv2d(64, 128, kernel_size=(1, 1), stride=(2, 2), bias=False)\n",
      "          (1): BatchNorm2d(128, eps=1e-05, momentum=0.1, affine=True, track_running_stats=True)\n",
      "        )\n",
      "      )\n",
      "      (1): BasicBlock(\n",
      "        (conv1): Conv2d(128, 128, kernel_size=(3, 3), stride=(1, 1), padding=(1, 1), bias=False)\n",
      "        (bn1): BatchNorm2d(128, eps=1e-05, momentum=0.1, affine=True, track_running_stats=True)\n",
      "        (relu): ReLU(inplace=True)\n",
      "        (conv2): Conv2d(128, 128, kernel_size=(3, 3), stride=(1, 1), padding=(1, 1), bias=False)\n",
      "        (bn2): BatchNorm2d(128, eps=1e-05, momentum=0.1, affine=True, track_running_stats=True)\n",
      "      )\n",
      "      (2): BasicBlock(\n",
      "        (conv1): Conv2d(128, 128, kernel_size=(3, 3), stride=(1, 1), padding=(1, 1), bias=False)\n",
      "        (bn1): BatchNorm2d(128, eps=1e-05, momentum=0.1, affine=True, track_running_stats=True)\n",
      "        (relu): ReLU(inplace=True)\n",
      "        (conv2): Conv2d(128, 128, kernel_size=(3, 3), stride=(1, 1), padding=(1, 1), bias=False)\n",
      "        (bn2): BatchNorm2d(128, eps=1e-05, momentum=0.1, affine=True, track_running_stats=True)\n",
      "      )\n",
      "      (3): BasicBlock(\n",
      "        (conv1): Conv2d(128, 128, kernel_size=(3, 3), stride=(1, 1), padding=(1, 1), bias=False)\n",
      "        (bn1): BatchNorm2d(128, eps=1e-05, momentum=0.1, affine=True, track_running_stats=True)\n",
      "        (relu): ReLU(inplace=True)\n",
      "        (conv2): Conv2d(128, 128, kernel_size=(3, 3), stride=(1, 1), padding=(1, 1), bias=False)\n",
      "        (bn2): BatchNorm2d(128, eps=1e-05, momentum=0.1, affine=True, track_running_stats=True)\n",
      "      )\n",
      "    )\n",
      "    (layer3): Sequential(\n",
      "      (0): BasicBlock(\n",
      "        (conv1): Conv2d(128, 256, kernel_size=(3, 3), stride=(2, 2), padding=(1, 1), bias=False)\n",
      "        (bn1): BatchNorm2d(256, eps=1e-05, momentum=0.1, affine=True, track_running_stats=True)\n",
      "        (relu): ReLU(inplace=True)\n",
      "        (conv2): Conv2d(256, 256, kernel_size=(3, 3), stride=(1, 1), padding=(1, 1), bias=False)\n",
      "        (bn2): BatchNorm2d(256, eps=1e-05, momentum=0.1, affine=True, track_running_stats=True)\n",
      "        (downsample): Sequential(\n",
      "          (0): Conv2d(128, 256, kernel_size=(1, 1), stride=(2, 2), bias=False)\n",
      "          (1): BatchNorm2d(256, eps=1e-05, momentum=0.1, affine=True, track_running_stats=True)\n",
      "        )\n",
      "      )\n",
      "      (1): BasicBlock(\n",
      "        (conv1): Conv2d(256, 256, kernel_size=(3, 3), stride=(1, 1), padding=(1, 1), bias=False)\n",
      "        (bn1): BatchNorm2d(256, eps=1e-05, momentum=0.1, affine=True, track_running_stats=True)\n",
      "        (relu): ReLU(inplace=True)\n",
      "        (conv2): Conv2d(256, 256, kernel_size=(3, 3), stride=(1, 1), padding=(1, 1), bias=False)\n",
      "        (bn2): BatchNorm2d(256, eps=1e-05, momentum=0.1, affine=True, track_running_stats=True)\n",
      "      )\n",
      "      (2): BasicBlock(\n",
      "        (conv1): Conv2d(256, 256, kernel_size=(3, 3), stride=(1, 1), padding=(1, 1), bias=False)\n",
      "        (bn1): BatchNorm2d(256, eps=1e-05, momentum=0.1, affine=True, track_running_stats=True)\n",
      "        (relu): ReLU(inplace=True)\n",
      "        (conv2): Conv2d(256, 256, kernel_size=(3, 3), stride=(1, 1), padding=(1, 1), bias=False)\n",
      "        (bn2): BatchNorm2d(256, eps=1e-05, momentum=0.1, affine=True, track_running_stats=True)\n",
      "      )\n",
      "      (3): BasicBlock(\n",
      "        (conv1): Conv2d(256, 256, kernel_size=(3, 3), stride=(1, 1), padding=(1, 1), bias=False)\n",
      "        (bn1): BatchNorm2d(256, eps=1e-05, momentum=0.1, affine=True, track_running_stats=True)\n",
      "        (relu): ReLU(inplace=True)\n",
      "        (conv2): Conv2d(256, 256, kernel_size=(3, 3), stride=(1, 1), padding=(1, 1), bias=False)\n",
      "        (bn2): BatchNorm2d(256, eps=1e-05, momentum=0.1, affine=True, track_running_stats=True)\n",
      "      )\n",
      "      (4): BasicBlock(\n",
      "        (conv1): Conv2d(256, 256, kernel_size=(3, 3), stride=(1, 1), padding=(1, 1), bias=False)\n",
      "        (bn1): BatchNorm2d(256, eps=1e-05, momentum=0.1, affine=True, track_running_stats=True)\n",
      "        (relu): ReLU(inplace=True)\n",
      "        (conv2): Conv2d(256, 256, kernel_size=(3, 3), stride=(1, 1), padding=(1, 1), bias=False)\n",
      "        (bn2): BatchNorm2d(256, eps=1e-05, momentum=0.1, affine=True, track_running_stats=True)\n",
      "      )\n",
      "      (5): BasicBlock(\n",
      "        (conv1): Conv2d(256, 256, kernel_size=(3, 3), stride=(1, 1), padding=(1, 1), bias=False)\n",
      "        (bn1): BatchNorm2d(256, eps=1e-05, momentum=0.1, affine=True, track_running_stats=True)\n",
      "        (relu): ReLU(inplace=True)\n",
      "        (conv2): Conv2d(256, 256, kernel_size=(3, 3), stride=(1, 1), padding=(1, 1), bias=False)\n",
      "        (bn2): BatchNorm2d(256, eps=1e-05, momentum=0.1, affine=True, track_running_stats=True)\n",
      "      )\n",
      "    )\n",
      "    (layer4): Sequential(\n",
      "      (0): BasicBlock(\n",
      "        (conv1): Conv2d(256, 512, kernel_size=(3, 3), stride=(2, 2), padding=(1, 1), bias=False)\n",
      "        (bn1): BatchNorm2d(512, eps=1e-05, momentum=0.1, affine=True, track_running_stats=True)\n",
      "        (relu): ReLU(inplace=True)\n",
      "        (conv2): Conv2d(512, 512, kernel_size=(3, 3), stride=(1, 1), padding=(1, 1), bias=False)\n",
      "        (bn2): BatchNorm2d(512, eps=1e-05, momentum=0.1, affine=True, track_running_stats=True)\n",
      "        (downsample): Sequential(\n",
      "          (0): Conv2d(256, 512, kernel_size=(1, 1), stride=(2, 2), bias=False)\n",
      "          (1): BatchNorm2d(512, eps=1e-05, momentum=0.1, affine=True, track_running_stats=True)\n",
      "        )\n",
      "      )\n",
      "      (1): BasicBlock(\n",
      "        (conv1): Conv2d(512, 512, kernel_size=(3, 3), stride=(1, 1), padding=(1, 1), bias=False)\n",
      "        (bn1): BatchNorm2d(512, eps=1e-05, momentum=0.1, affine=True, track_running_stats=True)\n",
      "        (relu): ReLU(inplace=True)\n",
      "        (conv2): Conv2d(512, 512, kernel_size=(3, 3), stride=(1, 1), padding=(1, 1), bias=False)\n",
      "        (bn2): BatchNorm2d(512, eps=1e-05, momentum=0.1, affine=True, track_running_stats=True)\n",
      "      )\n",
      "      (2): BasicBlock(\n",
      "        (conv1): Conv2d(512, 512, kernel_size=(3, 3), stride=(1, 1), padding=(1, 1), bias=False)\n",
      "        (bn1): BatchNorm2d(512, eps=1e-05, momentum=0.1, affine=True, track_running_stats=True)\n",
      "        (relu): ReLU(inplace=True)\n",
      "        (conv2): Conv2d(512, 512, kernel_size=(3, 3), stride=(1, 1), padding=(1, 1), bias=False)\n",
      "        (bn2): BatchNorm2d(512, eps=1e-05, momentum=0.1, affine=True, track_running_stats=True)\n",
      "      )\n",
      "    )\n",
      "  )\n",
      "  (decoder): UnetDecoder(\n",
      "    (center): Identity()\n",
      "    (blocks): ModuleList(\n",
      "      (0): DecoderBlock(\n",
      "        (conv1): Conv2dReLU(\n",
      "          (0): Conv2d(768, 256, kernel_size=(3, 3), stride=(1, 1), padding=(1, 1), bias=False)\n",
      "          (1): BatchNorm2d(256, eps=1e-05, momentum=0.1, affine=True, track_running_stats=True)\n",
      "          (2): ReLU(inplace=True)\n",
      "        )\n",
      "        (attention1): Attention(\n",
      "          (attention): Identity()\n",
      "        )\n",
      "        (conv2): Conv2dReLU(\n",
      "          (0): Conv2d(256, 256, kernel_size=(3, 3), stride=(1, 1), padding=(1, 1), bias=False)\n",
      "          (1): BatchNorm2d(256, eps=1e-05, momentum=0.1, affine=True, track_running_stats=True)\n",
      "          (2): ReLU(inplace=True)\n",
      "        )\n",
      "        (attention2): Attention(\n",
      "          (attention): Identity()\n",
      "        )\n",
      "      )\n",
      "      (1): DecoderBlock(\n",
      "        (conv1): Conv2dReLU(\n",
      "          (0): Conv2d(384, 128, kernel_size=(3, 3), stride=(1, 1), padding=(1, 1), bias=False)\n",
      "          (1): BatchNorm2d(128, eps=1e-05, momentum=0.1, affine=True, track_running_stats=True)\n",
      "          (2): ReLU(inplace=True)\n",
      "        )\n",
      "        (attention1): Attention(\n",
      "          (attention): Identity()\n",
      "        )\n",
      "        (conv2): Conv2dReLU(\n",
      "          (0): Conv2d(128, 128, kernel_size=(3, 3), stride=(1, 1), padding=(1, 1), bias=False)\n",
      "          (1): BatchNorm2d(128, eps=1e-05, momentum=0.1, affine=True, track_running_stats=True)\n",
      "          (2): ReLU(inplace=True)\n",
      "        )\n",
      "        (attention2): Attention(\n",
      "          (attention): Identity()\n",
      "        )\n",
      "      )\n",
      "      (2): DecoderBlock(\n",
      "        (conv1): Conv2dReLU(\n",
      "          (0): Conv2d(192, 64, kernel_size=(3, 3), stride=(1, 1), padding=(1, 1), bias=False)\n",
      "          (1): BatchNorm2d(64, eps=1e-05, momentum=0.1, affine=True, track_running_stats=True)\n",
      "          (2): ReLU(inplace=True)\n",
      "        )\n",
      "        (attention1): Attention(\n",
      "          (attention): Identity()\n",
      "        )\n",
      "        (conv2): Conv2dReLU(\n",
      "          (0): Conv2d(64, 64, kernel_size=(3, 3), stride=(1, 1), padding=(1, 1), bias=False)\n",
      "          (1): BatchNorm2d(64, eps=1e-05, momentum=0.1, affine=True, track_running_stats=True)\n",
      "          (2): ReLU(inplace=True)\n",
      "        )\n",
      "        (attention2): Attention(\n",
      "          (attention): Identity()\n",
      "        )\n",
      "      )\n",
      "      (3): DecoderBlock(\n",
      "        (conv1): Conv2dReLU(\n",
      "          (0): Conv2d(128, 32, kernel_size=(3, 3), stride=(1, 1), padding=(1, 1), bias=False)\n",
      "          (1): BatchNorm2d(32, eps=1e-05, momentum=0.1, affine=True, track_running_stats=True)\n",
      "          (2): ReLU(inplace=True)\n",
      "        )\n",
      "        (attention1): Attention(\n",
      "          (attention): Identity()\n",
      "        )\n",
      "        (conv2): Conv2dReLU(\n",
      "          (0): Conv2d(32, 32, kernel_size=(3, 3), stride=(1, 1), padding=(1, 1), bias=False)\n",
      "          (1): BatchNorm2d(32, eps=1e-05, momentum=0.1, affine=True, track_running_stats=True)\n",
      "          (2): ReLU(inplace=True)\n",
      "        )\n",
      "        (attention2): Attention(\n",
      "          (attention): Identity()\n",
      "        )\n",
      "      )\n",
      "      (4): DecoderBlock(\n",
      "        (conv1): Conv2dReLU(\n",
      "          (0): Conv2d(32, 16, kernel_size=(3, 3), stride=(1, 1), padding=(1, 1), bias=False)\n",
      "          (1): BatchNorm2d(16, eps=1e-05, momentum=0.1, affine=True, track_running_stats=True)\n",
      "          (2): ReLU(inplace=True)\n",
      "        )\n",
      "        (attention1): Attention(\n",
      "          (attention): Identity()\n",
      "        )\n",
      "        (conv2): Conv2dReLU(\n",
      "          (0): Conv2d(16, 16, kernel_size=(3, 3), stride=(1, 1), padding=(1, 1), bias=False)\n",
      "          (1): BatchNorm2d(16, eps=1e-05, momentum=0.1, affine=True, track_running_stats=True)\n",
      "          (2): ReLU(inplace=True)\n",
      "        )\n",
      "        (attention2): Attention(\n",
      "          (attention): Identity()\n",
      "        )\n",
      "      )\n",
      "    )\n",
      "  )\n",
      "  (segmentation_head): SegmentationHead(\n",
      "    (0): Conv2d(16, 1, kernel_size=(3, 3), stride=(1, 1), padding=(1, 1))\n",
      "    (1): Identity()\n",
      "    (2): Activation(\n",
      "      (activation): Sigmoid()\n",
      "    )\n",
      "  )\n",
      ")\n"
     ]
    }
   ],
   "source": [
    "def create_unet_with_10_channels():\n",
    "    ''' \n",
    "    Архитектура нейросети.\n",
    "    '''\n",
    "    # Загружаем предобученную модель UNet с энкодером resnet34\n",
    "    model = smp.Unet(\n",
    "        encoder_name=\"resnet34\",      # энкодер на основе resnet34\n",
    "        encoder_weights=\"imagenet\",   # используем предобученные веса\n",
    "        in_channels=3,                # временно указываем 3 канала\n",
    "        classes=1,\n",
    "        activation = 'sigmoid'                   \n",
    "    )\n",
    "    \n",
    "    # Модифицируем первый сверточный слой для работы с 10 каналами\n",
    "    # Получаем текущий первый слой (3 канала)\n",
    "    original_conv1 = model.encoder.conv1\n",
    "    \n",
    "    # Создаем новый слой с 10 каналами и тем же количеством выходов\n",
    "    new_conv1 = nn.Conv2d(\n",
    "        in_channels=10,\n",
    "        out_channels=original_conv1.out_channels,\n",
    "        kernel_size=original_conv1.kernel_size,\n",
    "        stride=original_conv1.stride,\n",
    "        padding=original_conv1.padding,\n",
    "        bias=original_conv1.bias\n",
    "    )\n",
    "    \n",
    "    # Копируем веса первых трех каналов из старого слоя в новый\n",
    "    with torch.no_grad():\n",
    "        new_conv1.weight[:, :3, :, :] = original_conv1.weight\n",
    "        if new_conv1.weight.size(1) > 3:\n",
    "            for i in range(3, 10):\n",
    "                new_conv1.weight[:, i, :, :] = original_conv1.weight[:, i % 3, :, :]\n",
    "    \n",
    "    # Заменяем первый слой модели\n",
    "    model.encoder.conv1 = new_conv1\n",
    "    return model\n",
    "\n",
    "# Создаем модель UNet с 10 входными каналами\n",
    "model = create_unet_with_10_channels()\n",
    "print(model)"
   ]
  },
  {
   "cell_type": "markdown",
   "metadata": {},
   "source": [
    "# Данные"
   ]
  },
  {
   "cell_type": "code",
   "execution_count": 3,
   "metadata": {},
   "outputs": [],
   "source": [
    "from utils import tiff_to_tensor, plot_channels\n",
    "import matplotlib.pyplot as plt"
   ]
  },
  {
   "cell_type": "code",
   "execution_count": 7,
   "metadata": {},
   "outputs": [],
   "source": [
    "from torchvision.transforms.functional import crop\n",
    "from pathlib import Path\n",
    "import numpy as np\n",
    "import scipy.ndimage as nd"
   ]
  },
  {
   "cell_type": "code",
   "execution_count": 4,
   "metadata": {},
   "outputs": [],
   "source": [
    "def random_crop(img_tensor, crop_size=(640, 640)):\n",
    "    \"\"\"\n",
    "    Делает случайный кроп изображения.\n",
    "    \n",
    "    Parameters:\n",
    "    - img_tensor (torch.Tensor): Входной тензор изображения с форматом (channels, height, width).\n",
    "    - crop_size (tuple): Размеры кропа (height, width).\n",
    "    \n",
    "    Returns:\n",
    "    - torch.Tensor: Случайный кроп изображения.\n",
    "    \"\"\"\n",
    "    c, h, w = img_tensor.shape\n",
    "    crop_h, crop_w = crop_size\n",
    "\n",
    "    # Убедимся, что размеры кропа не превышают исходные размеры\n",
    "    assert crop_h <= h and crop_w <= w, \"Размеры кропа превышают размеры изображения\"\n",
    "\n",
    "    # Генерируем случайные координаты верхнего левого угла кропа\n",
    "    top = torch.randint(0, h - crop_h + 1, (1,)).item()\n",
    "    left = torch.randint(0, w - crop_w + 1, (1,)).item()\n",
    "\n",
    "    # Делаем кроп\n",
    "    cropped_tensor = img_tensor[:, top:top + crop_h, left:left + crop_w]\n",
    "    \n",
    "    return cropped_tensor"
   ]
  },
  {
   "cell_type": "code",
   "execution_count": 5,
   "metadata": {},
   "outputs": [],
   "source": [
    "def preprocess_mask(mask, dilation_iters=5, erosion_iters=5):\n",
    "    \"\"\"\n",
    "    Выполняет морфологические операции над маской для выделения границ.\n",
    "    \n",
    "    Parameters:\n",
    "    - mask: Тензор маски (1, h, w).\n",
    "    - dilation_iters: Количество итераций для расширения.\n",
    "    - erosion_iters: Количество итераций для сжатия.\n",
    "    \n",
    "    Returns:\n",
    "    - torch.Tensor: Предобработанная маска с выделенными границами.\n",
    "    \"\"\"\n",
    "    mask_np = mask[0].cpu().numpy().astype(bool)  # Преобразуем в numpy для операций\n",
    "    # Выполняем расширение и сжатие\n",
    "    dilated = nd.binary_dilation(mask_np, iterations=dilation_iters)\n",
    "    eroded = nd.binary_erosion(mask_np, iterations=erosion_iters)\n",
    "    \n",
    "    # Вычисляем границу как разность\n",
    "    border = dilated.astype(float) - eroded.astype(float)\n",
    "    border = torch.from_numpy(border).unsqueeze(0)  # Преобразуем обратно в тензор (1, h, w)\n",
    "    \n",
    "    return border"
   ]
  },
  {
   "cell_type": "code",
   "execution_count": 6,
   "metadata": {},
   "outputs": [],
   "source": [
    "def random_crop_within_mask(image, mask, crop_size=(640, 640)):\n",
    "    \"\"\"\n",
    "    Вырезает случайный кроп по маске.\n",
    "    \n",
    "    Parameters:\n",
    "    - image: Тензор изображения (c, h, w).\n",
    "    - mask: Тензор маски (1, h, w).\n",
    "    - crop_size=(640, 640): Размер кропа.\n",
    "    \n",
    "    Returns:\n",
    "    - torch.Tensor: Вырезанное изображение.\n",
    "    - torch.Tensor: Вырезанная маска.\n",
    "    \"\"\"\n",
    "    _, h, w = image.shape\n",
    "    crop_h, crop_w = crop_size\n",
    "    \n",
    "    border_mask = preprocess_mask(mask) # Убираем перевес в пользу сплошных водоёмов\n",
    "\n",
    "    # Получаем индексы пикселей внутри маски\n",
    "    mask_indices = torch.nonzero(border_mask[0] == 1, as_tuple=False)\n",
    "\n",
    "    # Проверяем, что внутри маски есть достаточно места для кропа\n",
    "    if len(mask_indices) == 0:\n",
    "        raise ValueError(\"В маске нет пикселей со значением 1 для выбора центра кропа.\")\n",
    "    \n",
    "    # Случайно выбираем центр из пикселей маски\n",
    "    center_y, center_x = mask_indices[torch.randint(0, len(mask_indices), (1,))].squeeze()\n",
    "\n",
    "    # Рассчитываем координаты начала и конца кропа\n",
    "    start_y = max(0, center_y - crop_h // 2)\n",
    "    start_x = max(0, center_x - crop_w // 2)\n",
    "    end_y = min(h, start_y + crop_h)\n",
    "    end_x = min(w, start_x + crop_w)\n",
    "\n",
    "    # Корректируем начальные координаты, если они выходят за пределы\n",
    "    start_y = max(0, end_y - crop_h)\n",
    "    start_x = max(0, end_x - crop_w)\n",
    "\n",
    "    # Выполняем кроп изображения и маски\n",
    "    image_crop = image[:, start_y:end_y, start_x:end_x]\n",
    "    mask_crop = mask[:, start_y:end_y, start_x:end_x]\n",
    "\n",
    "    return image_crop, mask_crop"
   ]
  },
  {
   "cell_type": "code",
   "execution_count": 8,
   "metadata": {},
   "outputs": [],
   "source": [
    "def get_crops(image, mask, size, intersection_rate=0.2):\n",
    "    h, w = image.shape[1:3]\n",
    "    step = int((1 - intersection_rate) * size)\n",
    "    print(image.shape)\n",
    "    crops = []\n",
    "    masks = []\n",
    "    \n",
    "    for x1 in range(0, w, step):\n",
    "        if x1 + size > w:\n",
    "            x1 = w - size\n",
    "        for y1 in range(0, h, step):\n",
    "            if y1 + size > h:\n",
    "                y1 = h - size\n",
    "            i = image[...,y1:y1 + size, x1:x1 + size]\n",
    "            m = mask[...,y1:y1 + size, x1:x1 + size]\n",
    "            crops.append(i)\n",
    "            masks.append(m)\n",
    "    \n",
    "    return crops, masks"
   ]
  },
  {
   "cell_type": "code",
   "execution_count": 9,
   "metadata": {},
   "outputs": [],
   "source": [
    "import os\n",
    "import rasterio\n",
    "import numpy as np"
   ]
  },
  {
   "cell_type": "code",
   "execution_count": 17,
   "metadata": {},
   "outputs": [
    {
     "name": "stdout",
     "output_type": "stream",
     "text": [
      "(10, 10134, 10680)\n"
     ]
    },
    {
     "name": "stderr",
     "output_type": "stream",
     "text": [
      "c:\\Anaconda\\envs\\pip-torch\\Lib\\site-packages\\rasterio\\__init__.py:378: NotGeoreferencedWarning: Dataset has no geotransform, gcps, or rpcs. The identity matrix will be returned.\n",
      "  dataset = writer(\n"
     ]
    },
    {
     "name": "stdout",
     "output_type": "stream",
     "text": [
      "(10, 2648, 6744)\n",
      "(10, 4389, 6708)\n",
      "(10, 2336, 3230)\n",
      "(10, 4971, 10632)\n",
      "(10, 4971, 10632)\n",
      "(10, 512, 512)\n",
      "(10, 512, 512)\n",
      "Кропы и маски успешно сохранены в директорию 'data'.\n"
     ]
    }
   ],
   "source": [
    "# Параметры\n",
    "size = 2048\n",
    "intersection_rate = 0.1\n",
    "image_dir = 'train/images'\n",
    "mask_dir = 'train/masks'\n",
    "output_dir = 'data'\n",
    "\n",
    "# Создание директории для сохранения\n",
    "os.makedirs(output_dir, exist_ok=True)\n",
    "\n",
    "# Получение списка файлов изображений\n",
    "image_files = [f for f in os.listdir(image_dir) if f.endswith('.tif')]\n",
    "mask_files = [f for f in os.listdir(mask_dir) if f.endswith('.tif')]\n",
    "\n",
    "for img_file, mask_file in zip(image_files, mask_files):\n",
    "    img_path = os.path.join(image_dir, img_file)\n",
    "    mask_path = os.path.join(mask_dir, mask_file)\n",
    "\n",
    "    # Чтение изображения\n",
    "    with rasterio.open(img_path) as src:\n",
    "        img_array = src.read()\n",
    "    \n",
    "    # Чтение маски\n",
    "    with rasterio.open(mask_path) as src:\n",
    "        mask_array = src.read()\n",
    "\n",
    "    # Получение кропов\n",
    "    c, m = get_crops(img_array, mask_array, size, intersection_rate)\n",
    "\n",
    "    # Сохранение кропов в выходную директорию\n",
    "    for i, (crop, mask) in enumerate(zip(c, m)):\n",
    "        crop_output_path = os.path.join(output_dir, f'images/{img_file.split(\".\")[0]}_{i}.tif')\n",
    "        mask_output_path = os.path.join(output_dir, f'masks/{mask_file.split(\".\")[0]}_{i}.tif')\n",
    "        \n",
    "        \n",
    "        with rasterio.open(crop_output_path, 'w', driver='GTiff', height=crop.shape[1], width=crop.shape[2],\n",
    "                           count=crop.shape[0], dtype=crop.dtype) as dst:\n",
    "            dst.write(crop)\n",
    "        with rasterio.open(mask_output_path, 'w', driver='GTiff', height=mask.shape[1], width=mask.shape[2],\n",
    "                           count=mask.shape[0], dtype=mask.dtype) as dst:\n",
    "            dst.write(mask)\n",
    "\n",
    "print(\"Кропы и маски успешно сохранены в директорию 'data'.\")\n",
    "\n",
    "\n"
   ]
  },
  {
   "cell_type": "code",
   "execution_count": 18,
   "metadata": {},
   "outputs": [
    {
     "data": {
      "text/plain": [
       "0"
      ]
     },
     "execution_count": 18,
     "metadata": {},
     "output_type": "execute_result"
    }
   ],
   "source": [
    "import gc\n",
    "gc.collect()"
   ]
  },
  {
   "cell_type": "markdown",
   "metadata": {},
   "source": [
    "# Dataloader"
   ]
  },
  {
   "cell_type": "code",
   "execution_count": 36,
   "metadata": {},
   "outputs": [],
   "source": [
    "from torch.utils.data import Dataset, DataLoader\n",
    "\n",
    "class SegmentationDataset(Dataset):\n",
    "    def __init__(self, images, masks, crop_size=(640, 640), image_max=5000, mask_max=1, transform=None, n_crops=4):\n",
    "        self.images = images\n",
    "        self.masks = masks\n",
    "        self.crop_size = crop_size\n",
    "        self.image_max = image_max\n",
    "        self.mask_max = mask_max\n",
    "        self.transform = transform\n",
    "        self.N = n_crops * len(self.images)\n",
    "\n",
    "    def __len__(self):\n",
    "        return self.N\n",
    "\n",
    "    def __getitem__(self, idx):\n",
    "\n",
    "        image_idx = idx % len(self.images)\n",
    "        # Загружаем изображение и маску из файлов в формате TIFF\n",
    "        image = tiff_to_tensor(self.images[image_idx], max=self.image_max)\n",
    "        mask = tiff_to_tensor(self.masks[image_idx], max=self.mask_max)\n",
    "\n",
    "        # Применяем функцию для случайного кропа внутри маски\n",
    "        image_crop, mask_crop = random_crop_within_mask(image, mask, crop_size=self.crop_size)\n",
    "\n",
    "        # Применяем дополнительные преобразования, если указаны\n",
    "        if self.transform:\n",
    "            augmented = self.transform(image=image_crop, mask=mask_crop)\n",
    "            image_crop = augmented['image']\n",
    "            mask_crop = augmented['mask']\n",
    "\n",
    "        return image_crop.to('cuda'), mask_crop.to('cuda')\n",
    "\n",
    "# Создаем DataLoader\n",
    "def create_segmentation_dataloader(images, masks, crop_size=(640, 640), batch_size=8, shuffle=True, transform=None, n_crops=4):\n",
    "    dataset = SegmentationDataset(images, masks, crop_size=crop_size, n_crops=n_crops)\n",
    "    dataloader = DataLoader(dataset, batch_size=batch_size, shuffle=shuffle)\n",
    "    return dataloader"
   ]
  },
  {
   "cell_type": "code",
   "execution_count": 20,
   "metadata": {},
   "outputs": [],
   "source": [
    "import os\n",
    "import glob\n",
    "import random\n",
    "\n",
    "def get_dataset_splits(path_to_images='data\\\\images\\\\', path_to_masks='data\\\\masks\\\\', test_part=0.1):\n",
    "    # Получаем список всех файлов изображений и масок\n",
    "    image_files = glob.glob(os.path.join(path_to_images, '*.*'))  # Все файлы в папке images\n",
    "    mask_files = glob.glob(os.path.join(path_to_masks, '*.*'))    # Все файлы в папке masks\n",
    "    \n",
    "    # Извлекаем названия файлов без расширений\n",
    "    image_filenames = [os.path.splitext(os.path.basename(f))[0] for f in image_files]\n",
    "    \n",
    "    # Создаем соответствия масок\n",
    "    mask_filenames = [path_to_masks + filename + '.tif' for filename in image_filenames]  # Предполагаем, что маски в формате .png\n",
    "\n",
    "    # Случайное перемешивание изображений и масок\n",
    "    combined = list(zip(image_files, mask_filenames))\n",
    "    random.shuffle(combined)\n",
    "    image_files[:], mask_filenames[:] = zip(*combined)\n",
    "\n",
    "    # Определяем количество файлов для тестовой выборки\n",
    "    total_files = len(image_files)\n",
    "    i_train = int(total_files * (1 - test_part))\n",
    "\n",
    "    # Разделяем на обучающую и тестовую выборки\n",
    "    train = list(zip(image_files[:i_train], mask_filenames[:i_train]))\n",
    "    test = list(zip(image_files[i_train:], mask_filenames[i_train:]))\n",
    "    \n",
    "    return train, test"
   ]
  },
  {
   "cell_type": "code",
   "execution_count": 21,
   "metadata": {},
   "outputs": [],
   "source": [
    "def unzip_paths(l):\n",
    "    image_paths, mask_paths = zip(*l)\n",
    "    image_paths = list(image_paths)\n",
    "    mask_paths = list(mask_paths)\n",
    "    return image_paths, mask_paths\n",
    "    "
   ]
  },
  {
   "cell_type": "code",
   "execution_count": 22,
   "metadata": {},
   "outputs": [],
   "source": [
    "train, test = get_dataset_splits()"
   ]
  },
  {
   "cell_type": "code",
   "execution_count": 23,
   "metadata": {},
   "outputs": [],
   "source": [
    "imgs_train, mask_train = unzip_paths(train)\n",
    "imgs_val, mask_val = unzip_paths(test)"
   ]
  },
  {
   "cell_type": "code",
   "execution_count": 24,
   "metadata": {},
   "outputs": [
    {
     "name": "stdout",
     "output_type": "stream",
     "text": [
      "86 86\n"
     ]
    }
   ],
   "source": [
    "print(len(imgs_train), len(mask_train))"
   ]
  },
  {
   "cell_type": "code",
   "execution_count": 37,
   "metadata": {},
   "outputs": [],
   "source": [
    "dataloader_train = create_segmentation_dataloader(imgs_train, mask_train, crop_size=(640, 640), batch_size=8)\n",
    "dataloader_val = create_segmentation_dataloader(imgs_val, mask_val, crop_size=(640, 640), batch_size=4)"
   ]
  },
  {
   "cell_type": "markdown",
   "metadata": {},
   "source": [
    "# Train"
   ]
  },
  {
   "cell_type": "code",
   "execution_count": 26,
   "metadata": {},
   "outputs": [],
   "source": [
    "from tqdm import tqdm"
   ]
  },
  {
   "cell_type": "code",
   "execution_count": 27,
   "metadata": {},
   "outputs": [],
   "source": [
    "class SegmentationTrainer:\n",
    "    def __init__(self, model, train_dataloader, val_dataloader, criterion, optimizer, device=\"cuda\"):\n",
    "        self.model = model.to(device)\n",
    "        self.train_dataloader = train_dataloader\n",
    "        self.val_dataloader = val_dataloader\n",
    "        self.criterion = criterion\n",
    "        self.optimizer = optimizer\n",
    "        self.device = device\n",
    "        \n",
    "        # Списки для сохранения истории лоссов\n",
    "        self.train_losses = []\n",
    "        self.val_losses = []\n",
    "        \n",
    "        # Параметры для отслеживания лучшей модели\n",
    "        self.best_val_loss = float(\"inf\")\n",
    "        self.best_model = None\n",
    "\n",
    "    def train_epoch(self):\n",
    "        self.model.train()\n",
    "        total_loss = 0\n",
    "        for image_crop, mask_crop in tqdm(self.train_dataloader, desc=\"Training\"):\n",
    "            image_crop, mask_crop = image_crop.to(self.device), mask_crop.to(self.device)\n",
    "\n",
    "            # Прогон через модель\n",
    "            preds = self.model(image_crop)\n",
    "\n",
    "            # Вычисление потерь\n",
    "            loss = self.criterion(preds, mask_crop)\n",
    "            total_loss += loss.item()\n",
    "\n",
    "            # Обратное распространение и оптимизация\n",
    "            self.optimizer.zero_grad()\n",
    "            loss.backward()\n",
    "            self.optimizer.step()\n",
    "        \n",
    "        return total_loss / len(self.train_dataloader)\n",
    "\n",
    "    def validate_epoch(self):\n",
    "        self.model.eval()\n",
    "        total_val_loss = 0\n",
    "        with torch.no_grad():\n",
    "            for image_crop, mask_crop in tqdm(self.val_dataloader, desc=\"Validating\"):\n",
    "                image_crop, mask_crop = image_crop.to(self.device), mask_crop.to(self.device)\n",
    "\n",
    "                # Прогон через модель\n",
    "                preds = self.model(image_crop)\n",
    "\n",
    "                # Вычисление потерь\n",
    "                loss = self.criterion(preds, mask_crop)\n",
    "                total_val_loss += loss.item()\n",
    "        \n",
    "        return total_val_loss / len(self.val_dataloader)\n",
    "\n",
    "    def fit(self, num_epochs):\n",
    "        for epoch in range(num_epochs):\n",
    "            train_loss = self.train_epoch()\n",
    "            val_loss = self.validate_epoch()\n",
    "            \n",
    "            # Сохраняем лоссы для текущей эпохи\n",
    "            self.train_losses.append(train_loss)\n",
    "            self.val_losses.append(val_loss)\n",
    "            \n",
    "            # Сохраняем модель, если валидационный лосс улучшился\n",
    "            if val_loss < self.best_val_loss:\n",
    "                self.best_val_loss = val_loss\n",
    "                self.best_model = self.model.state_dict()  # Сохраняем состояние модели\n",
    "\n",
    "            print(f\"Epoch [{epoch+1}/{num_epochs}], Train Loss: {train_loss:.4f}, Validation Loss: {val_loss:.4f}\")\n",
    "\n",
    "    def plot_losses(self):\n",
    "        plt.plot(self.train_losses, label=\"Train Loss\")\n",
    "        plt.plot(self.val_losses, label=\"Validation Loss\")\n",
    "        plt.xlabel(\"Epoch\")\n",
    "        plt.ylabel(\"Loss\")\n",
    "        plt.legend()\n",
    "        plt.show()"
   ]
  },
  {
   "cell_type": "code",
   "execution_count": 28,
   "metadata": {},
   "outputs": [
    {
     "name": "stdout",
     "output_type": "stream",
     "text": [
      "Image Paths: 86\n",
      "Mask Paths:  86\n"
     ]
    }
   ],
   "source": [
    "image_paths, mask_paths = zip(*train)\n",
    "image_paths = list(image_paths)\n",
    "mask_paths = list(mask_paths)\n",
    "print(\"Image Paths:\", len(image_paths))\n",
    "print(\"Mask Paths: \", len(mask_paths))"
   ]
  },
  {
   "cell_type": "code",
   "execution_count": 29,
   "metadata": {},
   "outputs": [],
   "source": [
    "from segmentation_models_pytorch import utils as smp_utils"
   ]
  },
  {
   "cell_type": "code",
   "execution_count": 30,
   "metadata": {},
   "outputs": [],
   "source": [
    "import torch\n",
    "import torch.nn as nn\n",
    "import torch.optim as optim"
   ]
  },
  {
   "cell_type": "code",
   "execution_count": 31,
   "metadata": {},
   "outputs": [
    {
     "name": "stderr",
     "output_type": "stream",
     "text": [
      "c:\\Jup\\multispectral\\model_unet.py:48: FutureWarning: You are using `torch.load` with `weights_only=False` (the current default value), which uses the default pickle module implicitly. It is possible to construct malicious pickle data which will execute arbitrary code during unpickling (See https://github.com/pytorch/pytorch/blob/main/SECURITY.md#untrusted-models for more details). In a future release, the default value for `weights_only` will be flipped to `True`. This limits the functions that could be executed during unpickling. Arbitrary objects will no longer be allowed to be loaded via this mode unless they are explicitly allowlisted by the user via `torch.serialization.add_safe_globals`. We recommend you start setting `weights_only=True` for any use case where you don't have full control of the loaded file. Please open an issue on GitHub for any issues related to this experimental feature.\n",
      "  m.load_state_dict(torch.load('best_model_dice.pth'))\n"
     ]
    }
   ],
   "source": [
    "from model_unet import load_unet_model\n",
    "m = load_unet_model()"
   ]
  },
  {
   "cell_type": "code",
   "execution_count": 33,
   "metadata": {},
   "outputs": [],
   "source": [
    "IoUloss = smp_utils.losses.JaccardLoss()\n",
    "DICEloss = smp_utils.losses.DiceLoss()"
   ]
  },
  {
   "cell_type": "code",
   "execution_count": 40,
   "metadata": {},
   "outputs": [],
   "source": [
    "trainer = SegmentationTrainer(\n",
    "    model=model,\n",
    "    train_dataloader=dataloader_train,\n",
    "    val_dataloader=dataloader_val,\n",
    "    criterion= DICEloss,\n",
    "    optimizer=optim.AdamW(model.parameters(), lr=0.01),\n",
    "    device='cuda'\n",
    ")\n"
   ]
  },
  {
   "cell_type": "code",
   "execution_count": 41,
   "metadata": {},
   "outputs": [
    {
     "name": "stderr",
     "output_type": "stream",
     "text": [
      "Training: 100%|██████████| 43/43 [02:15<00:00,  3.15s/it]\n",
      "Validating: 100%|██████████| 10/10 [00:14<00:00,  1.49s/it]\n"
     ]
    },
    {
     "name": "stdout",
     "output_type": "stream",
     "text": [
      "Epoch [1/10], Train Loss: 0.4745, Validation Loss: 0.6150\n"
     ]
    },
    {
     "name": "stderr",
     "output_type": "stream",
     "text": [
      "Training: 100%|██████████| 43/43 [02:17<00:00,  3.20s/it]\n",
      "Validating: 100%|██████████| 10/10 [00:15<00:00,  1.60s/it]\n"
     ]
    },
    {
     "name": "stdout",
     "output_type": "stream",
     "text": [
      "Epoch [2/10], Train Loss: 0.3094, Validation Loss: 0.4257\n"
     ]
    },
    {
     "name": "stderr",
     "output_type": "stream",
     "text": [
      "Training: 100%|██████████| 43/43 [02:15<00:00,  3.16s/it]\n",
      "Validating: 100%|██████████| 10/10 [00:16<00:00,  1.65s/it]\n"
     ]
    },
    {
     "name": "stdout",
     "output_type": "stream",
     "text": [
      "Epoch [3/10], Train Loss: 0.2986, Validation Loss: 0.8180\n"
     ]
    },
    {
     "name": "stderr",
     "output_type": "stream",
     "text": [
      "Training: 100%|██████████| 43/43 [02:16<00:00,  3.19s/it]\n",
      "Validating: 100%|██████████| 10/10 [00:14<00:00,  1.41s/it]\n"
     ]
    },
    {
     "name": "stdout",
     "output_type": "stream",
     "text": [
      "Epoch [4/10], Train Loss: 0.2814, Validation Loss: 0.4920\n"
     ]
    },
    {
     "name": "stderr",
     "output_type": "stream",
     "text": [
      "Training: 100%|██████████| 43/43 [02:16<00:00,  3.16s/it]\n",
      "Validating: 100%|██████████| 10/10 [00:15<00:00,  1.51s/it]\n"
     ]
    },
    {
     "name": "stdout",
     "output_type": "stream",
     "text": [
      "Epoch [5/10], Train Loss: 0.2441, Validation Loss: 0.3552\n"
     ]
    },
    {
     "name": "stderr",
     "output_type": "stream",
     "text": [
      "Training: 100%|██████████| 43/43 [02:16<00:00,  3.18s/it]\n",
      "Validating: 100%|██████████| 10/10 [00:15<00:00,  1.51s/it]\n"
     ]
    },
    {
     "name": "stdout",
     "output_type": "stream",
     "text": [
      "Epoch [6/10], Train Loss: 0.2333, Validation Loss: 0.2856\n"
     ]
    },
    {
     "name": "stderr",
     "output_type": "stream",
     "text": [
      "Training: 100%|██████████| 43/43 [02:19<00:00,  3.23s/it]\n",
      "Validating: 100%|██████████| 10/10 [00:15<00:00,  1.57s/it]\n"
     ]
    },
    {
     "name": "stdout",
     "output_type": "stream",
     "text": [
      "Epoch [7/10], Train Loss: 0.2433, Validation Loss: 0.6981\n"
     ]
    },
    {
     "name": "stderr",
     "output_type": "stream",
     "text": [
      "Training: 100%|██████████| 43/43 [02:19<00:00,  3.24s/it]\n",
      "Validating: 100%|██████████| 10/10 [00:15<00:00,  1.55s/it]\n"
     ]
    },
    {
     "name": "stdout",
     "output_type": "stream",
     "text": [
      "Epoch [8/10], Train Loss: 0.2919, Validation Loss: 0.8639\n"
     ]
    },
    {
     "name": "stderr",
     "output_type": "stream",
     "text": [
      "Training: 100%|██████████| 43/43 [02:19<00:00,  3.24s/it]\n",
      "Validating: 100%|██████████| 10/10 [00:16<00:00,  1.64s/it]\n"
     ]
    },
    {
     "name": "stdout",
     "output_type": "stream",
     "text": [
      "Epoch [9/10], Train Loss: 0.2746, Validation Loss: 0.2646\n"
     ]
    },
    {
     "name": "stderr",
     "output_type": "stream",
     "text": [
      "Training: 100%|██████████| 43/43 [02:21<00:00,  3.29s/it]\n",
      "Validating: 100%|██████████| 10/10 [00:14<00:00,  1.49s/it]"
     ]
    },
    {
     "name": "stdout",
     "output_type": "stream",
     "text": [
      "Epoch [10/10], Train Loss: 0.1897, Validation Loss: 0.3132\n"
     ]
    },
    {
     "name": "stderr",
     "output_type": "stream",
     "text": [
      "\n"
     ]
    }
   ],
   "source": [
    "trainer.fit(num_epochs=10)"
   ]
  },
  {
   "cell_type": "code",
   "execution_count": 43,
   "metadata": {},
   "outputs": [
    {
     "name": "stderr",
     "output_type": "stream",
     "text": [
      "Training:   0%|          | 0/43 [00:00<?, ?it/s]c:\\Anaconda\\envs\\pip-torch\\Lib\\site-packages\\rasterio\\__init__.py:368: NotGeoreferencedWarning: Dataset has no geotransform, gcps, or rpcs. The identity matrix will be returned.\n",
      "  dataset = DatasetReader(path, driver=driver, sharing=sharing, **kwargs)\n",
      "Training: 100%|██████████| 43/43 [02:21<00:00,  3.28s/it]\n",
      "Validating: 100%|██████████| 10/10 [00:15<00:00,  1.59s/it]\n"
     ]
    },
    {
     "name": "stdout",
     "output_type": "stream",
     "text": [
      "Epoch [1/5], Train Loss: 0.1960, Validation Loss: 0.3313\n"
     ]
    },
    {
     "name": "stderr",
     "output_type": "stream",
     "text": [
      "Training: 100%|██████████| 43/43 [02:09<00:00,  3.01s/it]\n",
      "Validating: 100%|██████████| 10/10 [00:14<00:00,  1.48s/it]\n"
     ]
    },
    {
     "name": "stdout",
     "output_type": "stream",
     "text": [
      "Epoch [2/5], Train Loss: 0.2200, Validation Loss: 0.3080\n"
     ]
    },
    {
     "name": "stderr",
     "output_type": "stream",
     "text": [
      "Training: 100%|██████████| 43/43 [02:06<00:00,  2.95s/it]\n",
      "Validating: 100%|██████████| 10/10 [00:14<00:00,  1.43s/it]\n"
     ]
    },
    {
     "name": "stdout",
     "output_type": "stream",
     "text": [
      "Epoch [3/5], Train Loss: 0.2029, Validation Loss: 0.1783\n"
     ]
    },
    {
     "name": "stderr",
     "output_type": "stream",
     "text": [
      "Training: 100%|██████████| 43/43 [02:16<00:00,  3.17s/it]\n",
      "Validating: 100%|██████████| 10/10 [00:16<00:00,  1.63s/it]\n"
     ]
    },
    {
     "name": "stdout",
     "output_type": "stream",
     "text": [
      "Epoch [4/5], Train Loss: 0.1737, Validation Loss: 0.2694\n"
     ]
    },
    {
     "name": "stderr",
     "output_type": "stream",
     "text": [
      "Training: 100%|██████████| 43/43 [02:15<00:00,  3.16s/it]\n",
      "Validating: 100%|██████████| 10/10 [00:15<00:00,  1.58s/it]"
     ]
    },
    {
     "name": "stdout",
     "output_type": "stream",
     "text": [
      "Epoch [5/5], Train Loss: 0.1923, Validation Loss: 0.3020\n"
     ]
    },
    {
     "name": "stderr",
     "output_type": "stream",
     "text": [
      "\n"
     ]
    }
   ],
   "source": [
    "trainer.fit(num_epochs=5)"
   ]
  },
  {
   "cell_type": "code",
   "execution_count": 44,
   "metadata": {},
   "outputs": [
    {
     "data": {
      "image/png": "[encoded data removed]",
      "text/plain": [
       "<Figure size 640x480 with 1 Axes>"
      ]
     },
     "metadata": {},
     "output_type": "display_data"
    }
   ],
   "source": [
    "trainer.plot_losses()"
   ]
  },
  {
   "cell_type": "code",
   "execution_count": 40,
   "metadata": {},
   "outputs": [
    {
     "data": {
      "text/plain": [
       "93.37395095825195"
      ]
     },
     "execution_count": 40,
     "metadata": {},
     "output_type": "execute_result"
    }
   ],
   "source": [
    "def get_model_size(model):\n",
    "    \"\"\"Возвращает размер модели в мегабайтах (MB).\"\"\"\n",
    "    param_size = sum(param.numel() * param.element_size() for param in model.parameters())\n",
    "    buffer_size = sum(buf.numel() * buf.element_size() for buf in model.buffers())\n",
    "    total_size = (param_size + buffer_size) / (1024 ** 2)  # переводим байты в мегабайты\n",
    "    return total_size\n",
    "get_model_size(trainer.model)"
   ]
  },
  {
   "cell_type": "code",
   "execution_count": 45,
   "metadata": {},
   "outputs": [],
   "source": [
    "\n",
    "# Копируем модель из trainer в m\n",
    "m = trainer.model\n",
    "\n",
    "# Загружаем state_dict лучшей модели в m\n",
    "m.load_state_dict(trainer.best_model)\n",
    "torch.save(m.state_dict(), 'best_model_dice_0.pth')"
   ]
  },
  {
   "cell_type": "code",
   "execution_count": 18,
   "metadata": {},
   "outputs": [],
   "source": [
    "images = ['train/images/2.tif','train/images/4.tif']\n",
    "masks = ['train/masks/2.tif','train/masks/4.tif']"
   ]
  },
  {
   "cell_type": "code",
   "execution_count": 24,
   "metadata": {},
   "outputs": [
    {
     "name": "stdout",
     "output_type": "stream",
     "text": [
      "cuda\n",
      "Epoch [1/10], Loss: 0.8860511295497417\n",
      "Epoch [2/10], Loss: 0.7871093712747097\n",
      "Epoch [3/10], Loss: 0.6068238876760006\n",
      "Epoch [4/10], Loss: 0.4539468493312597\n",
      "Epoch [5/10], Loss: 0.3766907323151827\n",
      "Epoch [6/10], Loss: 0.3315745033323765\n",
      "Epoch [7/10], Loss: 0.3185655903071165\n",
      "Epoch [8/10], Loss: 0.2900573778897524\n",
      "Epoch [9/10], Loss: 0.26279278565198183\n",
      "Epoch [10/10], Loss: 0.27494256664067507\n"
     ]
    }
   ],
   "source": [
    "dataloader = create_segmentation_dataloader(images, masks, crop_size=(640, 640), batch_size=8, n_crops=64)\n",
    "# Определите функцию потерь и оптимизатор\n",
    "  # для многоклассовой сегментации; если бинарная, можно использовать nn.BCEWithLogitsLoss\n",
    "optimizer = optim.AdamW(model.parameters(), lr=0.001)\n",
    "criterion1 = smp_utils.losses.DiceLoss()\n",
    "criterion2 = smp_utils.losses.JaccardLoss()\n",
    "device = torch.device(\"cuda\" if torch.cuda.is_available() else \"cpu\")\n",
    "print(device)\n",
    "\n",
    "# Обучающий цикл\n",
    "num_epochs = 10  # укажите нужное количество эпох\n",
    "model.train()\n",
    "model.cuda()\n",
    "for epoch in range(num_epochs):\n",
    "    total_loss = 0\n",
    "    for image_crop, mask_crop in dataloader:\n",
    "        # Предсказание\n",
    "        preds = model(image_crop)\n",
    "\n",
    "        # Вычисление потерь\n",
    "        loss1 = criterion1(preds, mask_crop)\n",
    "        loss2 = criterion2(preds, mask_crop)\n",
    "        loss = 0.6 * loss1 + 0.4 * loss2\n",
    "        total_loss += loss.item()\n",
    "\n",
    "        # Обратное распространение и оптимизация\n",
    "        optimizer.zero_grad()\n",
    "        loss.backward()\n",
    "        optimizer.step()\n",
    "    \n",
    "    print(f\"Epoch [{epoch+1}/{num_epochs}], Loss: {total_loss/len(dataloader)}\")"
   ]
  }
 ],
 "metadata": {
  "kernelspec": {
   "display_name": "pip-torch",
   "language": "python",
   "name": "python3"
  },
  "language_info": {
   "codemirror_mode": {
    "name": "ipython",
    "version": 3
   },
   "file_extension": ".py",
   "mimetype": "text/x-python",
   "name": "python",
   "nbconvert_exporter": "python",
   "pygments_lexer": "ipython3",
   "version": "3.11.5"
  }
 },
 "nbformat": 4,
 "nbformat_minor": 2
}
