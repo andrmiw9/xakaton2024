{
 "cells": [
  {
   "cell_type": "code",
   "execution_count": null,
   "metadata": {},
   "outputs": [],
   "source": [
    "import torch\n",
    "\n",
    "def gaussian_weight_map(size, sigma):\n",
    "    \"\"\"Создает 2D карту весов с гауссовским распределением, центрированным в середине кропа.\"\"\"\n",
    "    y, x = torch.meshgrid(torch.arange(size), torch.arange(size), indexing='ij')\n",
    "    center = (size - 1) / 2\n",
    "    gauss_map = torch.exp(((x - center) * 2 + (y - center) * 2) / (2 * sigma ** 2))\n",
    "    return gauss_map\n",
    "\n",
    "def assemble_crops_with_gaussian_weights(crops, original_size, size, intersection_rate=0.2, sigma=0.4):\n",
    "    # Создаем пустой тензор для результирующего изображения\n",
    "    assembled_image = torch.zeros((crops.shape[1], original_size[1], original_size[2]), dtype=crops.dtype)\n",
    "    \n",
    "    h, w = original_size[1:3]\n",
    "    step = int((1 - intersection_rate) * size)\n",
    "    \n",
    "    # Создаем карту весов один раз для всех кропов (можно менять sigma для настройки)\n",
    "    weights = gaussian_weight_map(size, sigma * size).to(crops.device)  # Размер sigma адаптирован к размеру кропа\n",
    "    \n",
    "    count = torch.zeros((original_size[1], original_size[2]), dtype=torch.float32, device=crops.device)\n",
    "\n",
    "    crop_index = 0\n",
    "    for y1 in range(0, h, step):\n",
    "        for x1 in range(0, w, step):\n",
    "            if y1 + size > h:\n",
    "                y1 = h - size\n",
    "            if x1 + size > w:\n",
    "                x1 = w - size\n",
    "            \n",
    "            # Извлекаем текущий кроп\n",
    "            crop = crops[crop_index]\n",
    "            crop_index += 1\n",
    "            \n",
    "            # Вставляем кроп в результирующее изображение с учетом весов\n",
    "            assembled_image[..., y1:y1 + size, x1:x1 + size] += crop * weights\n",
    "            count[y1:y1 + size, x1:x1 + size] += weights\n",
    "            \n",
    "    # Нормализуем результирующее изображение\n",
    "    assembled_image /= count.unsqueeze(0)\n",
    "    assembled_image[count == 0] = 0  # Обрабатываем пиксели, которые не были обновлены\n",
    "    \n",
    "    return assembled_image"
   ]
  }
 ],
 "metadata": {
  "kernelspec": {
   "display_name": "venv",
   "language": "python",
   "name": "python3"
  },
  "language_info": {
   "name": "python",
   "version": "3.11.5"
  }
 },
 "nbformat": 4,
 "nbformat_minor": 2
}
