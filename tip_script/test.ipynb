{
 "cells": [
  {
   "cell_type": "code",
   "execution_count": 1,
   "metadata": {},
   "outputs": [],
   "source": [
    "import numpy as np\n",
    "from rasterio.windows import Window\n",
    "from typing import List\n",
    "import os\n",
    "import rasterio\n",
    "import torch\n",
    "import matplotlib.pyplot as plt"
   ]
  },
  {
   "cell_type": "code",
   "execution_count": 2,
   "metadata": {},
   "outputs": [],
   "source": [
    "def reconstruct_image_from_tiles(tiles: List[Window], image_width: int, image_height: int, tile_size: int, overlap: int) -> np.ndarray:\n",
    "    \"\"\"\n",
    "    Reconstruct the original image from the list of tiles.\n",
    "\n",
    "    Parameters:\n",
    "        tiles (List[Window]): A list of rasterio Window objects representing each tile.\n",
    "        image_width (int): The width of the original image in pixels.\n",
    "        image_height (int): The height of the original image in pixels.\n",
    "        tile_size (int): The size of each tile (assumes square tiles).\n",
    "        overlap (int): The number of overlapping pixels between adjacent tiles.\n",
    "\n",
    "    Returns:\n",
    "        np.ndarray: A numpy array representing the reconstructed image.\n",
    "    \"\"\"\n",
    "    # Calculate step size\n",
    "    step_size = tile_size - overlap\n",
    "    \n",
    "    # Create an empty array to hold the reconstructed image as float\n",
    "    reconstructed_image = np.zeros((image_height, image_width), dtype=np.float32)\n",
    "    \n",
    "    # Create an array to count how many times each pixel is written to\n",
    "    pixel_count = np.zeros((image_height, image_width), dtype=int)\n",
    "\n",
    "    # Place each tile back into the reconstructed image\n",
    "    for window in tiles:\n",
    "        x_start = window.col_off\n",
    "        y_start = window.row_off\n",
    "        \n",
    "        # Read the tile data (this part would normally come from your data source)\n",
    "        # For demonstration purposes, we will create a dummy tile data here.\n",
    "        tile_data = np.ones((tile_size, tile_size), dtype=np.uint8) * 255  # Replace with actual tile data\n",
    "        \n",
    "        # Calculate end positions for height and width\n",
    "        height_end = min(y_start + window.height, image_height)\n",
    "        width_end = min(x_start + window.width, image_width)\n",
    "\n",
    "        # Check if the calculated sizes are valid\n",
    "        if height_end > y_start and width_end > x_start:\n",
    "            reconstructed_image[y_start:height_end, x_start:width_end] += tile_data[:height_end - y_start, :width_end - x_start]\n",
    "            pixel_count[y_start:height_end, x_start:width_end] += 1\n",
    "\n",
    "    # Handle averaging where pixels are counted multiple times due to overlap\n",
    "    with np.errstate(divide='ignore', invalid='ignore'):\n",
    "        reconstructed_image = np.divide(reconstructed_image, pixel_count,\n",
    "                                         out=np.zeros_like(reconstructed_image),\n",
    "                                         where=pixel_count != 0)\n",
    "\n",
    "    reconstructed_image = np.clip(reconstructed_image, 0, 255).astype(np.uint8)\n",
    "    \n",
    "    return reconstructed_image\n",
    "\n"
   ]
  },
  {
   "cell_type": "code",
   "execution_count": 3,
   "metadata": {},
   "outputs": [],
   "source": [
    "def create_windows_from_paths(tile_files: List[str], tile_size: int, overlap: int) -> List[Window]:\n",
    "    \"\"\"\n",
    "    Create Window objects from file paths based on their positions.\n",
    "\n",
    "    Parameters:\n",
    "        tile_files (List[str]): List of file paths for the tiles.\n",
    "        tile_size (int): The size of each tile (assumes square tiles).\n",
    "        overlap (int): The number of overlapping pixels between adjacent tiles.\n",
    "\n",
    "    Returns:\n",
    "        List[Window]: A list of rasterio Window objects representing each tile.\n",
    "    \"\"\"\n",
    "    step_size = tile_size - overlap\n",
    "    windows = []\n",
    "\n",
    "    for tile_file in tile_files:\n",
    "        # Extract the tile index from the filename\n",
    "        # Assuming filenames are in the format 'tile_{row}_{col}.tif'\n",
    "        basename = os.path.basename(tile_file)\n",
    "        parts = basename.split('_')\n",
    "        \n",
    "        if len(parts) != 3:\n",
    "            raise ValueError(f\"Filename '{basename}' does not match expected format.\")\n",
    "\n",
    "        row = int(parts[1])\n",
    "        col = int(parts[2].split('.')[0])  # Remove file extension\n",
    "        \n",
    "        # Calculate the offsets for the Window\n",
    "        x_offset = col * step_size\n",
    "        y_offset = row * step_size\n",
    "        \n",
    "        # Create the Window object\n",
    "        window = Window(x_offset, y_offset, tile_size, tile_size)\n",
    "        windows.append(window)\n",
    "\n",
    "    return windows"
   ]
  },
  {
   "cell_type": "code",
   "execution_count": 4,
   "metadata": {},
   "outputs": [
    {
     "name": "stdout",
     "output_type": "stream",
     "text": [
      "['D:/hacaton/2/train_dataset_skoltech_train/train/output_folder\\\\images\\\\tile_2_0.tif', 'D:/hacaton/2/train_dataset_skoltech_train/train/output_folder\\\\images\\\\tile_2_1.tif', 'D:/hacaton/2/train_dataset_skoltech_train/train/output_folder\\\\images\\\\tile_2_2.tif', 'D:/hacaton/2/train_dataset_skoltech_train/train/output_folder\\\\images\\\\tile_2_3.tif', 'D:/hacaton/2/train_dataset_skoltech_train/train/output_folder\\\\images\\\\tile_2_4.tif', 'D:/hacaton/2/train_dataset_skoltech_train/train/output_folder\\\\images\\\\tile_2_5.tif', 'D:/hacaton/2/train_dataset_skoltech_train/train/output_folder\\\\images\\\\tile_2_6.tif', 'D:/hacaton/2/train_dataset_skoltech_train/train/output_folder\\\\images\\\\tile_2_7.tif', 'D:/hacaton/2/train_dataset_skoltech_train/train/output_folder\\\\images\\\\tile_2_8.tif']\n"
     ]
    }
   ],
   "source": [
    "\n",
    "output_folder = 'D:/hacaton/2/train_dataset_skoltech_train/train/output_folder'\n",
    "tile_files = [\n",
    "        os.path.join(output_folder, 'images', f)\n",
    "        for f in os.listdir(os.path.join(output_folder, 'images'))\n",
    "        if f.startswith(f'tile_{2}_')\n",
    "    ]\n",
    "print(tile_files)"
   ]
  },
  {
   "cell_type": "code",
   "execution_count": 5,
   "metadata": {},
   "outputs": [
    {
     "name": "stdout",
     "output_type": "stream",
     "text": [
      "[Window(col_off=0, row_off=448, width=256, height=256), Window(col_off=224, row_off=448, width=256, height=256), Window(col_off=448, row_off=448, width=256, height=256), Window(col_off=672, row_off=448, width=256, height=256), Window(col_off=896, row_off=448, width=256, height=256), Window(col_off=1120, row_off=448, width=256, height=256), Window(col_off=1344, row_off=448, width=256, height=256), Window(col_off=1568, row_off=448, width=256, height=256), Window(col_off=1792, row_off=448, width=256, height=256)]\n",
      "[[  0   0   0 ...   0   0   0]\n",
      " [  0   0   0 ...   0   0   0]\n",
      " [  0   0   0 ...   0   0   0]\n",
      " ...\n",
      " [255 255 255 ... 255 255 255]\n",
      " [255 255 255 ... 255 255 255]\n",
      " [255 255 255 ... 255 255 255]]\n"
     ]
    }
   ],
   "source": [
    "# Пример использования функции\n",
    "# Предположим у вас есть список объектов Window и размеры изображения\n",
    "image_width = 512\n",
    "image_height = 512\n",
    "tile_size = 256\n",
    "overlap = 32\n",
    "tile_windows = create_windows_from_paths(tile_files, 256, 32)\n",
    "print(tile_windows)\n",
    "# Создание объектов Window на основе путей к файлам тайлов (пример)\n",
    "# Примерный код для создания объектов Window здесь...\n",
    "\n",
    "# Восстановление изображения из тайлов\n",
    "picture = reconstruct_image_from_tiles(tile_windows, image_width, image_height, tile_size, overlap)\n",
    "print(picture)"
   ]
  },
  {
   "cell_type": "code",
   "execution_count": 6,
   "metadata": {},
   "outputs": [],
   "source": [
    "def save_image_as_tiff(image_array: np.ndarray, output_path: str) -> None:\n",
    "    \"\"\"\n",
    "    Save a NumPy array as a TIFF image using rasterio.\n",
    "\n",
    "    Parameters:\n",
    "        image_array (np.ndarray): The NumPy array representing the image.\n",
    "        output_path (str): The file path where the TIFF image will be saved.\n",
    "\n",
    "    Returns:\n",
    "        None\n",
    "    \"\"\"\n",
    "    with rasterio.open(\n",
    "        output_path,\n",
    "        'w',\n",
    "        driver='GTiff',\n",
    "        height=image_array.shape[0],\n",
    "        width=image_array.shape[1],\n",
    "        count=10,  # Assuming a single-band image; change if multi-band\n",
    "        dtype='uint8'\n",
    "    ) as dst:\n",
    "        dst.write(image_array, 1)"
   ]
  },
  {
   "cell_type": "code",
   "execution_count": 7,
   "metadata": {},
   "outputs": [
    {
     "name": "stderr",
     "output_type": "stream",
     "text": [
      "d:\\hacaton\\2\\train_dataset_skoltech_train\\venv\\Lib\\site-packages\\rasterio\\__init__.py:378: NotGeoreferencedWarning: Dataset has no geotransform, gcps, or rpcs. The identity matrix will be returned.\n",
      "  dataset = writer(\n"
     ]
    }
   ],
   "source": [
    "save_image_as_tiff(picture, 'D:/hacaton/2/train_dataset_skoltech_train/train/output_folder/output_image.tif')"
   ]
  },
  {
   "cell_type": "code",
   "execution_count": 8,
   "metadata": {},
   "outputs": [],
   "source": [
    "def tiff_to_tensor(tif_path):\n",
    "    \"\"\"\n",
    "    Читает все каналы из файла.\n",
    "    Обрезает верхнюю границу значений пикселей.\n",
    "    Нормализация по текущему изображению.\n",
    "    \n",
    "    Parameters:\n",
    "    - tif_path: Путь до изображения.\n",
    "    \n",
    "    Returns:\n",
    "    - torch.Tensor: Обработанное изображение.\n",
    "    \"\"\"\n",
    "    with rasterio.open(tif_path) as src:\n",
    "        # Читаем все каналы изображения и преобразуем в numpy-массив\n",
    "        img_array = src.read()  # Получаем массив с форматом (channels, height, width)\n",
    "    img_tensor = torch.from_numpy(img_array).float()\n",
    "    img_tensor = torch.clamp(img_tensor, min = 0, max = 5000)\n",
    "    img_tensor = img_tensor / 5000\n",
    "    return img_tensor"
   ]
  },
  {
   "cell_type": "code",
   "execution_count": 9,
   "metadata": {},
   "outputs": [
    {
     "name": "stderr",
     "output_type": "stream",
     "text": [
      "d:\\hacaton\\2\\train_dataset_skoltech_train\\venv\\Lib\\site-packages\\rasterio\\__init__.py:368: NotGeoreferencedWarning: Dataset has no geotransform, gcps, or rpcs. The identity matrix will be returned.\n",
      "  dataset = DatasetReader(path, driver=driver, sharing=sharing, **kwargs)\n"
     ]
    }
   ],
   "source": [
    "tensor = tiff_to_tensor('D:/hacaton/2/train_dataset_skoltech_train/train/output_folder/output_image.tif')"
   ]
  },
  {
   "cell_type": "code",
   "execution_count": 10,
   "metadata": {},
   "outputs": [],
   "source": [
    "def plot_channels(img_tensor, rgb=[2, 1, 0]):\n",
    "    \"\"\"\n",
    "    Визуализирует выбранные каналы тензора изображения.\n",
    "\n",
    "    Parameters:\n",
    "    - img_tensor (torch.Tensor): Тензор изображения с форматом (channels, height, width).\n",
    "    - rgb (list of int): Индексы каналов, которые нужно визуализировать. По умолчанию [2, 1, 0].\n",
    "\n",
    "    \"\"\"\n",
    "    # Проверяем, что в img_tensor достаточно каналов\n",
    "    assert img_tensor.shape[0] > max(rgb), \"Выбранные каналы отсутствуют в тензоре\"\n",
    "\n",
    "    # Извлекаем три выбранных канала и конвертируем их в numpy\n",
    "    selected_channels = img_tensor[rgb].numpy()\n",
    "\n",
    "    # Транспонируем из (channels, height, width) в (height, width, channels)\n",
    "    if selected_channels.shape[0] == 3:\n",
    "        selected_channels = selected_channels.transpose(1, 2, 0)\n",
    "    else:\n",
    "        raise ValueError(\"Должно быть выбрано ровно 3 канала для RGB изображения\")\n",
    "\n",
    "    # Отображаем изображение\n",
    "    plt.figure(figsize=(20,16))\n",
    "    plt.imshow(selected_channels)\n",
    "    plt.axis('off')\n",
    "    plt.show()"
   ]
  },
  {
   "cell_type": "code",
   "execution_count": 11,
   "metadata": {},
   "outputs": [
    {
     "data": {
      "image/png": "[encoded data removed]",
      "text/plain": [
       "<Figure size 2000x1600 with 1 Axes>"
      ]
     },
     "metadata": {},
     "output_type": "display_data"
    }
   ],
   "source": [
    "plot_channels(tensor)"
   ]
  },
  {
   "cell_type": "code",
   "execution_count": null,
   "metadata": {},
   "outputs": [],
   "source": []
  }
 ],
 "metadata": {
  "kernelspec": {
   "display_name": "venv",
   "language": "python",
   "name": "python3"
  },
  "language_info": {
   "codemirror_mode": {
    "name": "ipython",
    "version": 3
   },
   "file_extension": ".py",
   "mimetype": "text/x-python",
   "name": "python",
   "nbconvert_exporter": "python",
   "pygments_lexer": "ipython3",
   "version": "3.11.5"
  }
 },
 "nbformat": 4,
 "nbformat_minor": 2
}
