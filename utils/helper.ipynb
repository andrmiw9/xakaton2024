{
 "cells": [
  {
   "cell_type": "code",
   "execution_count": 1,
   "id": "084e698f-b67a-4bcf-b5f7-d3afc9998661",
   "metadata": {
    "editable": true,
    "id": "084e698f-b67a-4bcf-b5f7-d3afc9998661",
    "slideshow": {
     "slide_type": ""
    },
    "tags": []
   },
   "outputs": [],
   "source": [
    "import os\n",
    "import rasterio\n",
    "import numpy as np\n",
    "import pandas as pd\n",
    "import matplotlib.pyplot as plt\n",
    "\n",
    "from PIL import Image\n",
    "from torch.utils.data import Dataset\n",
    "from torch.utils.data import DataLoader"
   ]
  },
  {
   "cell_type": "markdown",
   "id": "25a45071-d7b1-4d11-acf2-ab46e6de204e",
   "metadata": {
    "id": "25a45071-d7b1-4d11-acf2-ab46e6de204e"
   },
   "source": [
    "# Data Visualization"
   ]
  },
  {
   "cell_type": "code",
   "execution_count": 2,
   "id": "0dd7cfb3-a299-4a9e-b60f-abf894c3b587",
   "metadata": {
    "id": "0dd7cfb3-a299-4a9e-b60f-abf894c3b587"
   },
   "outputs": [],
   "source": [
    "PALLETE = [\n",
    "        [0, 0, 0],\n",
    "        [0, 0, 255],\n",
    "        ]"
   ]
  },
  {
   "cell_type": "code",
   "execution_count": 3,
   "id": "06586130-e37e-492d-bb38-aa2dab581559",
   "metadata": {
    "id": "06586130-e37e-492d-bb38-aa2dab581559"
   },
   "outputs": [],
   "source": [
    "def normalize(band):\n",
    "    band_min, band_max = (band.min(), band.max())\n",
    "    return ((band - band_min) / ((band_max - band_min)))"
   ]
  },
  {
   "cell_type": "code",
   "execution_count": 4,
   "id": "4a5a8c17-d40e-4813-9f17-095ae2cc9cb8",
   "metadata": {
    "executionInfo": {
     "elapsed": 695,
     "status": "ok",
     "timestamp": 1729464238184,
     "user": {
      "displayName": "alex pol",
      "userId": "16655620512845500108"
     },
     "user_tz": -180
    },
    "id": "4a5a8c17-d40e-4813-9f17-095ae2cc9cb8"
   },
   "outputs": [],
   "source": [
    "def brighten(band):\n",
    "    alpha = 0.13\n",
    "    beta = 0\n",
    "    return np.clip(alpha * band + beta, 0, 255)"
   ]
  },
  {
   "cell_type": "code",
   "execution_count": 5,
   "id": "3fc86b2d-1be1-411d-88f0-af5619730ce9",
   "metadata": {
    "id": "3fc86b2d-1be1-411d-88f0-af5619730ce9"
   },
   "outputs": [],
   "source": [
    "def convert(im_path):\n",
    "    with rasterio.open(im_path) as fin:\n",
    "        red = fin.read(3)\n",
    "        green = fin.read(2)\n",
    "        blue = fin.read(1)\n",
    "\n",
    "    red_b = brighten(red)\n",
    "    blue_b = brighten(blue)\n",
    "    green_b = brighten(green)\n",
    "\n",
    "    red_bn = normalize(red_b)\n",
    "    green_bn = normalize(green_b)\n",
    "    blue_bn = normalize(blue_b)\n",
    "\n",
    "    return np.dstack((blue_b, green_b, red_b)), np.dstack((red_bn, green_bn, blue_bn))"
   ]
  },
  {
   "cell_type": "code",
   "execution_count": 6,
   "id": "788c2757-e08b-43e9-b9f3-47ca32e27f90",
   "metadata": {
    "id": "788c2757-e08b-43e9-b9f3-47ca32e27f90"
   },
   "outputs": [],
   "source": [
    "def plot_data(image_path, mask_path):\n",
    "    plt.figure(figsize=(12, 12))\n",
    "    pal = [value for color in PALLETE for value in color]\n",
    "\n",
    "    plt.subplot(1, 2, 1)\n",
    "    _, img = convert(image_path)\n",
    "    plt.imshow(img)\n",
    "\n",
    "    plt.subplot(1, 2, 2)\n",
    "    with rasterio.open(mask_path) as fin:\n",
    "        mask = fin.read(1)\n",
    "    mask = Image.fromarray(mask).convert('P')\n",
    "    mask.putpalette(pal)\n",
    "    plt.imshow(mask)\n",
    "    plt.show();"
   ]
  },
  {
   "cell_type": "code",
   "execution_count": 7,
   "id": "fe7f92fa",
   "metadata": {},
   "outputs": [
    {
     "ename": "RasterioIOError",
     "evalue": "/Users/mir/Desktop/dataset/train/images/9_1.tif: No such file or directory",
     "output_type": "error",
     "traceback": [
      "\u001b[0;31m---------------------------------------------------------------------------\u001b[0m",
      "\u001b[0;31mCPLE_OpenFailedError\u001b[0m                      Traceback (most recent call last)",
      "File \u001b[0;32mrasterio/_base.pyx:310\u001b[0m, in \u001b[0;36mrasterio._base.DatasetBase.__init__\u001b[0;34m()\u001b[0m\n",
      "File \u001b[0;32mrasterio/_base.pyx:221\u001b[0m, in \u001b[0;36mrasterio._base.open_dataset\u001b[0;34m()\u001b[0m\n",
      "File \u001b[0;32mrasterio/_err.pyx:359\u001b[0m, in \u001b[0;36mrasterio._err.exc_wrap_pointer\u001b[0;34m()\u001b[0m\n",
      "\u001b[0;31mCPLE_OpenFailedError\u001b[0m: /Users/mir/Desktop/dataset/train/images/9_1.tif: No such file or directory",
      "\nDuring handling of the above exception, another exception occurred:\n",
      "\u001b[0;31mRasterioIOError\u001b[0m                           Traceback (most recent call last)",
      "Cell \u001b[0;32mIn[7], line 1\u001b[0m\n\u001b[0;32m----> 1\u001b[0m \u001b[43mplot_data\u001b[49m\u001b[43m(\u001b[49m\u001b[38;5;124;43m'\u001b[39;49m\u001b[38;5;124;43m/Users/mir/Desktop/dataset/train/images/9_1.tif\u001b[39;49m\u001b[38;5;124;43m'\u001b[39;49m\u001b[43m,\u001b[49m\u001b[43m \u001b[49m\u001b[38;5;124;43m'\u001b[39;49m\u001b[38;5;124;43m/Users/mir/Desktop/dataset/train/masks/9_1.tif\u001b[39;49m\u001b[38;5;124;43m'\u001b[39;49m\u001b[43m)\u001b[49m\n",
      "Cell \u001b[0;32mIn[6], line 6\u001b[0m, in \u001b[0;36mplot_data\u001b[0;34m(image_path, mask_path)\u001b[0m\n\u001b[1;32m      3\u001b[0m pal \u001b[38;5;241m=\u001b[39m [value \u001b[38;5;28;01mfor\u001b[39;00m color \u001b[38;5;129;01min\u001b[39;00m PALLETE \u001b[38;5;28;01mfor\u001b[39;00m value \u001b[38;5;129;01min\u001b[39;00m color]\n\u001b[1;32m      5\u001b[0m plt\u001b[38;5;241m.\u001b[39msubplot(\u001b[38;5;241m1\u001b[39m, \u001b[38;5;241m2\u001b[39m, \u001b[38;5;241m1\u001b[39m)\n\u001b[0;32m----> 6\u001b[0m _, img \u001b[38;5;241m=\u001b[39m \u001b[43mconvert\u001b[49m\u001b[43m(\u001b[49m\u001b[43mimage_path\u001b[49m\u001b[43m)\u001b[49m\n\u001b[1;32m      7\u001b[0m plt\u001b[38;5;241m.\u001b[39mimshow(img)\n\u001b[1;32m      9\u001b[0m plt\u001b[38;5;241m.\u001b[39msubplot(\u001b[38;5;241m1\u001b[39m, \u001b[38;5;241m2\u001b[39m, \u001b[38;5;241m2\u001b[39m)\n",
      "Cell \u001b[0;32mIn[5], line 2\u001b[0m, in \u001b[0;36mconvert\u001b[0;34m(im_path)\u001b[0m\n\u001b[1;32m      1\u001b[0m \u001b[38;5;28;01mdef\u001b[39;00m \u001b[38;5;21mconvert\u001b[39m(im_path):\n\u001b[0;32m----> 2\u001b[0m     \u001b[38;5;28;01mwith\u001b[39;00m \u001b[43mrasterio\u001b[49m\u001b[38;5;241;43m.\u001b[39;49m\u001b[43mopen\u001b[49m\u001b[43m(\u001b[49m\u001b[43mim_path\u001b[49m\u001b[43m)\u001b[49m \u001b[38;5;28;01mas\u001b[39;00m fin:\n\u001b[1;32m      3\u001b[0m         red \u001b[38;5;241m=\u001b[39m fin\u001b[38;5;241m.\u001b[39mread(\u001b[38;5;241m3\u001b[39m)\n\u001b[1;32m      4\u001b[0m         green \u001b[38;5;241m=\u001b[39m fin\u001b[38;5;241m.\u001b[39mread(\u001b[38;5;241m2\u001b[39m)\n",
      "File \u001b[0;32m~/environments/hack/lib/python3.10/site-packages/rasterio/env.py:463\u001b[0m, in \u001b[0;36mensure_env_with_credentials.<locals>.wrapper\u001b[0;34m(*args, **kwds)\u001b[0m\n\u001b[1;32m    460\u001b[0m     session \u001b[38;5;241m=\u001b[39m DummySession()\n\u001b[1;32m    462\u001b[0m \u001b[38;5;28;01mwith\u001b[39;00m env_ctor(session\u001b[38;5;241m=\u001b[39msession):\n\u001b[0;32m--> 463\u001b[0m     \u001b[38;5;28;01mreturn\u001b[39;00m \u001b[43mf\u001b[49m\u001b[43m(\u001b[49m\u001b[38;5;241;43m*\u001b[39;49m\u001b[43margs\u001b[49m\u001b[43m,\u001b[49m\u001b[43m \u001b[49m\u001b[38;5;241;43m*\u001b[39;49m\u001b[38;5;241;43m*\u001b[39;49m\u001b[43mkwds\u001b[49m\u001b[43m)\u001b[49m\n",
      "File \u001b[0;32m~/environments/hack/lib/python3.10/site-packages/rasterio/__init__.py:355\u001b[0m, in \u001b[0;36mopen\u001b[0;34m(fp, mode, driver, width, height, count, crs, transform, dtype, nodata, sharing, opener, **kwargs)\u001b[0m\n\u001b[1;32m    352\u001b[0m     path \u001b[38;5;241m=\u001b[39m _parse_path(raw_dataset_path)\n\u001b[1;32m    354\u001b[0m \u001b[38;5;28;01mif\u001b[39;00m mode \u001b[38;5;241m==\u001b[39m \u001b[38;5;124m\"\u001b[39m\u001b[38;5;124mr\u001b[39m\u001b[38;5;124m\"\u001b[39m:\n\u001b[0;32m--> 355\u001b[0m     dataset \u001b[38;5;241m=\u001b[39m \u001b[43mDatasetReader\u001b[49m\u001b[43m(\u001b[49m\u001b[43mpath\u001b[49m\u001b[43m,\u001b[49m\u001b[43m \u001b[49m\u001b[43mdriver\u001b[49m\u001b[38;5;241;43m=\u001b[39;49m\u001b[43mdriver\u001b[49m\u001b[43m,\u001b[49m\u001b[43m \u001b[49m\u001b[43msharing\u001b[49m\u001b[38;5;241;43m=\u001b[39;49m\u001b[43msharing\u001b[49m\u001b[43m,\u001b[49m\u001b[43m \u001b[49m\u001b[38;5;241;43m*\u001b[39;49m\u001b[38;5;241;43m*\u001b[39;49m\u001b[43mkwargs\u001b[49m\u001b[43m)\u001b[49m\n\u001b[1;32m    356\u001b[0m \u001b[38;5;28;01melif\u001b[39;00m mode \u001b[38;5;241m==\u001b[39m \u001b[38;5;124m\"\u001b[39m\u001b[38;5;124mr+\u001b[39m\u001b[38;5;124m\"\u001b[39m:\n\u001b[1;32m    357\u001b[0m     dataset \u001b[38;5;241m=\u001b[39m get_writer_for_path(path, driver\u001b[38;5;241m=\u001b[39mdriver)(\n\u001b[1;32m    358\u001b[0m         path, mode, driver\u001b[38;5;241m=\u001b[39mdriver, sharing\u001b[38;5;241m=\u001b[39msharing, \u001b[38;5;241m*\u001b[39m\u001b[38;5;241m*\u001b[39mkwargs\n\u001b[1;32m    359\u001b[0m     )\n",
      "File \u001b[0;32mrasterio/_base.pyx:312\u001b[0m, in \u001b[0;36mrasterio._base.DatasetBase.__init__\u001b[0;34m()\u001b[0m\n",
      "\u001b[0;31mRasterioIOError\u001b[0m: /Users/mir/Desktop/dataset/train/images/9_1.tif: No such file or directory"
     ]
    },
    {
     "data": {
      "image/png": "[encoded data removed]",
      "text/plain": [
       "<Figure size 1200x1200 with 1 Axes>"
      ]
     },
     "metadata": {},
     "output_type": "display_data"
    }
   ],
   "source": [
    "plot_data('/Users/mir/Desktop/dataset/train/images/9_1.tif', '/Users/mir/Desktop/dataset/train/masks/9_1.tif')"
   ]
  },
  {
   "cell_type": "markdown",
   "id": "9c67655a",
   "metadata": {},
   "source": [
    "# Divide big image into tile dataset"
   ]
  },
  {
   "cell_type": "code",
   "execution_count": 8,
   "id": "6df30fd7",
   "metadata": {},
   "outputs": [],
   "source": [
    "from tqdm import tqdm\n",
    "from typing import List, Optional\n",
    "from rasterio.windows import Window"
   ]
  },
  {
   "cell_type": "code",
   "execution_count": 9,
   "id": "982baf19",
   "metadata": {},
   "outputs": [],
   "source": [
    "def get_tiles_with_overlap(image_width: int, image_height: int, \n",
    "                           tile_size: int, overlap: int) -> List[Window]:\n",
    "    \"\"\"\n",
    "    Calculate the windows for tiles with specified overlap across the image.\n",
    "\n",
    "    Parameters:\n",
    "        image_width (int): The width of the input image in pixels.\n",
    "        image_height (int): The height of the input image in pixels.\n",
    "        tile_size (int): The size of each tile (assumes square tiles).\n",
    "        overlap (int): The number of overlapping pixels between adjacent tiles.\n",
    "\n",
    "    Returns:\n",
    "        List[Window]: A list of rasterio Window objects representing each tile.\n",
    "    \"\"\"\n",
    "    step_size = tile_size - overlap\n",
    "    tiles = []\n",
    "    for y in range(0, image_height, step_size):\n",
    "        for x in range(0, image_width, step_size):\n",
    "            window = Window(x, y, tile_size, tile_size)\n",
    "            # Adjust window if it exceeds the image bounds\n",
    "            window = window.intersection(Window(0, 0, image_width, image_height))\n",
    "            tiles.append(window)\n",
    "    return tiles"
   ]
  },
  {
   "cell_type": "code",
   "execution_count": 10,
   "id": "90565fc1",
   "metadata": {},
   "outputs": [],
   "source": [
    "def save_tile(src_dataset: rasterio.io.DatasetReader, window: Window, \n",
    "              output_folder: str, tile_index: int, image_id: int) -> None:\n",
    "    \"\"\"\n",
    "    Extract and save a single tile from the source dataset.\n",
    "\n",
    "    Parameters:\n",
    "        src_dataset (rasterio.io.DatasetReader): The opened rasterio dataset (the input image).\n",
    "        window (Window): The window (rasterio Window object) defining the tile.\n",
    "        output_folder (str): The folder where the tiles will be saved.\n",
    "        tile_index (int): Index of the tile to be used for naming the file.\n",
    "        image_id (int): Image id to be used for naming the file.\n",
    "\n",
    "    Returns:\n",
    "        None\n",
    "    \"\"\"\n",
    "    transform = src_dataset.window_transform(window)\n",
    "    tile_data = src_dataset.read(window=window)\n",
    "    \n",
    "    profile = src_dataset.profile\n",
    "    profile.update({\n",
    "        'driver': 'GTiff',\n",
    "        'height': window.height,\n",
    "        'width': window.width,\n",
    "        'transform': transform\n",
    "    })\n",
    "    \n",
    "    output_filename = os.path.join(output_folder, f\"tile_{image_id}_{tile_index}.tif\")\n",
    "    with rasterio.open(output_filename, 'w', **profile) as dst:\n",
    "        dst.write(tile_data)"
   ]
  },
  {
   "cell_type": "code",
   "execution_count": 11,
   "id": "0ff6620c",
   "metadata": {},
   "outputs": [],
   "source": [
    "def split_image(image_path: str, output_folder: str, mask_path: Optional[str] = None, \n",
    "                tile_size: int = 512, overlap: int = 128, image_id: int = 0) -> None:\n",
    "    \"\"\"\n",
    "    Split a large GeoTIFF image and its corresponding mask (if provided) into tiles with overlap \n",
    "    and save them.\n",
    "\n",
    "    Parameters:\n",
    "        image_path (str): The file path of the input TIFF image.\n",
    "        mask_path (Optional[str]): The file path of the corresponding mask TIFF image. If None, only image is processed.\n",
    "        output_folder (str): The folder where the tiles will be saved.\n",
    "        tile_size (int, optional): The size of the tiles. Default is 512x512.\n",
    "        overlap (int, optional): The number of pixels to overlap between tiles. Default is 128 pixels.\n",
    "        image_id (int, optional): ID of the input image to be used for naming the file. \n",
    "            Defaults to 0.\n",
    "\n",
    "    Returns:\n",
    "        None\n",
    "    \"\"\"\n",
    "    with rasterio.open(image_path) as src_image:\n",
    "        image_width = src_image.width\n",
    "        image_height = src_image.height\n",
    "\n",
    "        # Create output directories for images and masks (if available)\n",
    "        images_folder = os.path.join(output_folder, 'images')\n",
    "        os.makedirs(images_folder, exist_ok=True)\n",
    "\n",
    "        if mask_path:\n",
    "            masks_folder = os.path.join(output_folder, 'masks')\n",
    "            os.makedirs(masks_folder, exist_ok=True)\n",
    "\n",
    "        # Get list of tiles with overlap\n",
    "        tiles = get_tiles_with_overlap(image_width, image_height, tile_size, overlap)\n",
    "\n",
    "        # Save image tiles (and mask tiles if provided)\n",
    "        if mask_path:\n",
    "            with rasterio.open(mask_path) as src_mask:\n",
    "                for idx, window in tqdm(enumerate(tiles)):\n",
    "                    save_tile(src_image, window, images_folder, idx, image_id)\n",
    "                    save_tile(src_mask, window, masks_folder, idx, image_id)\n",
    "        else:\n",
    "            for idx, window in tqdm(enumerate(tiles)):\n",
    "                save_tile(src_image, window, images_folder, idx, image_id)"
   ]
  },
  {
   "cell_type": "code",
   "execution_count": 17,
   "id": "31121aad-75f9-4a3e-b733-6da8ae50dc5f",
   "metadata": {},
   "outputs": [],
   "source": [
    "n = ['1', '2', '5', '6_1', '6_2', '9_1', '9_2']\n",
    "\n",
    "output_folder = '/home/user1/xakaton2024/data/cut_data/'\n",
    "os.makedirs(output_folder, exist_ok=True)"
   ]
  },
  {
   "cell_type": "code",
   "execution_count": 18,
   "id": "c6f5ebbb",
   "metadata": {},
   "outputs": [
    {
     "name": "stderr",
     "output_type": "stream",
     "text": [
      "306it [00:07, 41.82it/s]\n",
      "60it [00:01, 55.75it/s]\n",
      "24it [00:00, 54.99it/s]\n",
      "162it [00:02, 54.19it/s]\n",
      "162it [00:03, 53.65it/s]\n",
      "1it [00:00, 54.81it/s]\n",
      "1it [00:00, 56.51it/s]\n"
     ]
    }
   ],
   "source": [
    "\n",
    "for t in n:\n",
    "    image_path = f'/home/user1/xakaton2024/data/given_train/images/{t}.tif' \n",
    "    mask_path = f'/home/user1/xakaton2024/data/given_train/masks/{t}.tif' \n",
    "\n",
    "    split_image(\n",
    "        image_path=image_path, mask_path=mask_path,\n",
    "        output_folder=output_folder, tile_size=640,\n",
    "        overlap=32, image_id=t\n",
    "        ) "
   ]
  },
  {
   "cell_type": "markdown",
   "id": "f069825f-fa05-4945-b7ee-6fc7b318cdcc",
   "metadata": {
    "id": "f069825f-fa05-4945-b7ee-6fc7b318cdcc"
   },
   "source": [
    "# Reading Data and creating Dataloader example in Pytorch"
   ]
  },
  {
   "cell_type": "code",
   "execution_count": 43,
   "id": "868ffd1a-9632-466d-9f32-9f394fbb9ba8",
   "metadata": {
    "id": "868ffd1a-9632-466d-9f32-9f394fbb9ba8"
   },
   "outputs": [],
   "source": [
    "def image_padding(image, target_size=256):\n",
    "    \"\"\"\n",
    "    Pad an image to a target size using reflection padding.\n",
    "    \"\"\"\n",
    "    height, width = image.shape[1:3]\n",
    "    pad_height = max(0, target_size - height)\n",
    "    pad_width = max(0, target_size - width)\n",
    "    padded_image = np.pad(image, ((0, 0), (0, pad_height),\n",
    "                                  (0, pad_width)), mode='reflect')\n",
    "    return padded_image\n",
    "\n",
    "\n",
    "def mask_padding(mask, target_size=256):\n",
    "    \"\"\"\n",
    "    Pad a mask to a target size using reflection padding.\n",
    "    \"\"\"\n",
    "    height, width = mask.shape\n",
    "    pad_height = max(0, target_size - height)\n",
    "    pad_width = max(0, target_size - width)\n",
    "    padded_mask = np.pad(mask, ((0, pad_height), (0, pad_width)),\n",
    "                         mode='reflect')\n",
    "    return padded_mask"
   ]
  },
  {
   "cell_type": "code",
   "execution_count": 44,
   "id": "207801c1-3820-4e59-84e6-720619d0f64b",
   "metadata": {
    "id": "207801c1-3820-4e59-84e6-720619d0f64b"
   },
   "outputs": [],
   "source": [
    "def get_data_list(img_path):\n",
    "    \"\"\"\n",
    "    Retrieves a list of file names from the given directory.\n",
    "    \"\"\"\n",
    "    name = []\n",
    "    for _, _, filenames in os.walk(img_path): # given a directory iterates over the files\n",
    "        for filename in filenames:\n",
    "            f = filename.split('.')[0]\n",
    "            name.append(f)\n",
    "\n",
    "    df =  pd.DataFrame({'id': name}, index = np.arange(0, len(name))\n",
    "                       ).sort_values('id').reset_index(drop=True)\n",
    "    df = df['id'].values\n",
    "\n",
    "    return np.delete(df, 0)"
   ]
  },
  {
   "cell_type": "code",
   "execution_count": 57,
   "id": "6fe7d7ee-79a6-486a-bd38-e6ec14312880",
   "metadata": {
    "id": "6fe7d7ee-79a6-486a-bd38-e6ec14312880"
   },
   "outputs": [],
   "source": [
    "class WaterDataset(Dataset):\n",
    "    def __init__(self, img_path, mask_path, file_names):\n",
    "        self.img_path = img_path\n",
    "        self.mask_path = mask_path\n",
    "        self.file_names = file_names\n",
    "\n",
    "    def __len__(self):\n",
    "            return len(self.file_names)\n",
    "\n",
    "    def __getitem__(self, idx):\n",
    "        with rasterio.open(self.img_path + self.file_names[idx] + '.tif') as fin:\n",
    "            image = fin.read()\n",
    "        image = image_padding(image).astype(np.float32)\n",
    "\n",
    "        with rasterio.open(self.mask_path + self.file_names[idx] + '.tif') as fin:\n",
    "            mask = fin.read(1)\n",
    "        mask = mask_padding(mask)\n",
    "\n",
    "        return image, mask"
   ]
  },
  {
   "cell_type": "code",
   "execution_count": 58,
   "id": "92585483-da72-4a43-957b-f86f85bad56b",
   "metadata": {
    "id": "92585483-da72-4a43-957b-f86f85bad56b"
   },
   "outputs": [],
   "source": [
    "data_list = get_data_list('data/images/')"
   ]
  },
  {
   "cell_type": "code",
   "execution_count": 59,
   "id": "752aa757-aab5-4e1b-8161-8cd7c55773e2",
   "metadata": {
    "id": "752aa757-aab5-4e1b-8161-8cd7c55773e2",
    "outputId": "8fe2f737-0e43-4409-e1cc-9d24072be48d"
   },
   "outputs": [
    {
     "data": {
      "text/plain": [
       "array(['tile_2_0', 'tile_2_1'], dtype=object)"
      ]
     },
     "execution_count": 59,
     "metadata": {},
     "output_type": "execute_result"
    }
   ],
   "source": [
    "data_list[:2]"
   ]
  },
  {
   "cell_type": "code",
   "execution_count": 60,
   "id": "34727910-b2cf-4f72-9725-21c765fae498",
   "metadata": {
    "id": "34727910-b2cf-4f72-9725-21c765fae498"
   },
   "outputs": [],
   "source": [
    "ds = WaterDataset(\n",
    "    img_path='data/images/',\n",
    "    mask_path='data/masks/',\n",
    "    file_names=data_list\n",
    ")"
   ]
  },
  {
   "cell_type": "code",
   "execution_count": 61,
   "id": "795ff690-6af6-4853-a8dc-f884c8c5bcc0",
   "metadata": {
    "id": "795ff690-6af6-4853-a8dc-f884c8c5bcc0"
   },
   "outputs": [],
   "source": [
    "dl = DataLoader(ds)"
   ]
  },
  {
   "cell_type": "code",
   "execution_count": 62,
   "id": "8c491265-1abf-407a-9004-056f397bb2b6",
   "metadata": {
    "id": "8c491265-1abf-407a-9004-056f397bb2b6",
    "outputId": "f72470c1-20ce-4892-c17a-b183e5900150"
   },
   "outputs": [
    {
     "name": "stdout",
     "output_type": "stream",
     "text": [
      "torch.Size([1, 10, 256, 256]) torch.Size([1, 256, 256])\n"
     ]
    }
   ],
   "source": [
    "for item in dl:\n",
    "    image, mask = item\n",
    "    print(image.shape, mask.shape)\n",
    "    break"
   ]
  },
  {
   "cell_type": "markdown",
   "id": "f0867f0d-4d24-4ad4-aa29-503e82a23560",
   "metadata": {
    "id": "f0867f0d-4d24-4ad4-aa29-503e82a23560"
   },
   "source": [
    "**Here we have one Sentinel-2A image with 10 channels:**\n",
    "\n",
    "\n",
    "| Name | Description                                          | Resolution |\n",
    "|------|------------------------------------------------------|------------|\n",
    "| B02  | Blue, 492.4 nm (S2A), 492.1 nm (S2B)                 | 10m        |\n",
    "| B03  | Green, 559.8 nm (S2A), 559.0 nm (S2B)                | 10m        |\n",
    "| B04  | Red, 664.6 nm (S2A), 665.0 nm (S2B)                  | 10m        |\n",
    "| B05  | Vegetation red edge, 704.1 nm (S2A), 703.8 nm (S2B)  | 20m        |\n",
    "| B06  | Vegetation red edge, 740.5 nm (S2A), 739.1 nm (S2B)  | 20m        |\n",
    "| B07  | Vegetation red edge, 782.8 nm (S2A), 779.7 nm (S2B)  | 20m        |\n",
    "| B08  | NIR, 832.8 nm (S2A), 833.0 nm (S2B)                  | 10m        | \n",
    "| B8A  | Narrow NIR, 864.7 nm (S2A), 864.0 nm (S2B)           | 20m        |\n",
    "| B11  | SWIR, 1613.7 nm (S2A), 1610.4 nm (S2B)               | 20m        |\n",
    "| B12  | SWIR, 2202.4 nm (S2A), 2185.7 nm (S2B)               | 20m        |\n",
    "\n",
    "**And mask with values from 0 to 1:**\n",
    "\n",
    "0. backgound\n",
    "1. water"
   ]
  },
  {
   "cell_type": "markdown",
   "id": "b0bb1b1f",
   "metadata": {},
   "source": [
    "# Inference"
   ]
  },
  {
   "cell_type": "code",
   "execution_count": 63,
   "id": "a6743223",
   "metadata": {},
   "outputs": [],
   "source": [
    "# In inference you should have pipline read big image devide it into tiles and inference and then concat result into big mask and save to geoTiff"
   ]
  },
  {
   "cell_type": "code",
   "execution_count": null,
   "id": "914715c6",
   "metadata": {},
   "outputs": [],
   "source": [
    "# Here is example of how to save result to geoTiff\n",
    "with rasterio.open('path_to_image') as multi_band_src:\n",
    "    image = multi_band_src.read()\n",
    "    meta = multi_band_src.meta\n",
    "\n",
    "# Split image to tile, inference and concat \n",
    "predict = None # model.predict(image)\n",
    "\n",
    "meta['count'] = 1\n",
    "\n",
    "with rasterio.open('path_to_output_geoTiff', 'w', **meta) as fout:\n",
    "    fout.write(predict, 1)"
   ]
  },
  {
   "cell_type": "markdown",
   "id": "2a5b2259",
   "metadata": {},
   "source": [
    "### !!! Remark: If you see the image with the same id but {_01} and {_02}, it means that first one is image before flood and the second one after"
   ]
  }
 ],
 "metadata": {
  "colab": {
   "provenance": []
  },
  "kernelspec": {
   "display_name": "hack",
   "language": "python",
   "name": "hack"
  },
  "language_info": {
   "codemirror_mode": {
    "name": "ipython",
    "version": 3
   },
   "file_extension": ".py",
   "mimetype": "text/x-python",
   "name": "python",
   "nbconvert_exporter": "python",
   "pygments_lexer": "ipython3",
   "version": "3.10.12"
  }
 },
 "nbformat": 4,
 "nbformat_minor": 5
}
